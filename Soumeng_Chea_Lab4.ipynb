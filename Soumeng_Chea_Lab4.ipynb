{
  "nbformat": 4,
  "nbformat_minor": 0,
  "metadata": {
    "kernelspec": {
      "display_name": "Python 3",
      "language": "python",
      "name": "python3"
    },
    "language_info": {
      "codemirror_mode": {
        "name": "ipython",
        "version": 3
      },
      "file_extension": ".py",
      "mimetype": "text/x-python",
      "name": "python",
      "nbconvert_exporter": "python",
      "pygments_lexer": "ipython3",
      "version": "3.8.5"
    },
    "colab": {
      "name": "Soumeng_Chea_Lab4.ipynb",
      "provenance": [],
      "collapsed_sections": []
    }
  },
  "cells": [
    {
      "cell_type": "markdown",
      "metadata": {
        "id": "pGv2aSWtvQj7"
      },
      "source": [
        "# Lab 4 : CS 6760\n",
        "\n",
        "## Introduction to Privacy Engineering, Summer 2021\n",
        "\n",
        "\n",
        "## Fairness and Privacy\n",
        "\n",
        "##### Installation:\n",
        "\n",
        "Same as Lab 1. <br>No additional packages are required.\n",
        "\n",
        "##### This lab contains 12 questions.\n",
        "The first 11 questions are coding questions. <br>\n",
        "The last question can be answered in words. \n",
        "\n",
        "##### Answer format\n",
        "\n",
        "You can use the coding cells for your computations.\\\n",
        "Enter the answer obtained in the final markdown cell in this notebook.\\\n",
        "Numeric values can be rounded off upto 2 decimal places.\n",
        "\n",
        "##### Grading rubric: for each question,\n",
        "100% of the points - Correct code, correct output<br>\n",
        "50% of the points - Minor logical error, partial output<br>\n",
        "0% of the points - No attempt, incomplete code, wrong output\n",
        "\n",
        "##### Submission instructions\n",
        "\n",
        "You will have to submit the completed jupyter notebook file (.ipynb) in Canvas. <br> \n",
        "Please rename the submission file in the 'FirstName-LastName-Lab3.ipynb'format.\n",
        "\n",
        "##### Acknowledgement\n",
        "\n",
        "Data source: https://www.kaggle.com/uciml/default-of-credit-card-clients-dataset\n",
        "\n",
        "***\n",
        "***"
      ]
    },
    {
      "cell_type": "markdown",
      "metadata": {
        "id": "-cq9aGpdvQkB"
      },
      "source": [
        "Importing libraries and functions"
      ]
    },
    {
      "cell_type": "code",
      "metadata": {
        "id": "VJ18bdcqvQkC"
      },
      "source": [
        "import pandas as pd\n",
        "import numpy as np\n",
        "import matplotlib.pyplot as plt\n",
        "import sklearn\n",
        "from sklearn.model_selection import train_test_split\n",
        "from sklearn.preprocessing import StandardScaler\n",
        "from sklearn.linear_model import LogisticRegression\n",
        "from sklearn.metrics import confusion_matrix\n",
        "from google.colab import drive"
      ],
      "execution_count": 1,
      "outputs": []
    },
    {
      "cell_type": "markdown",
      "metadata": {
        "id": "CdH9qg57vQkC"
      },
      "source": [
        "We will be using the 'Default of Credit Card Clients Dataset' for this Lab assignment. \\\n",
        "\\\n",
        "This dataset contains information on default payments, demographic factors, credit data, history of payment, and bill statements of credit card clients in Taiwan from April 2005 to September 2005. \\\n",
        "\\\n",
        "Contents:\n",
        "There are 25 variables:\n",
        "\n",
        "- ID: ID of each client\n",
        "- LIMIT_BAL: Amount of given credit in NT dollars (includes individual and family/supplementary credit\n",
        "- SEX: Gender (1=male, 2=female)\n",
        "- EDUCATION: (1=graduate school, 2=university, 3=high school, 4=others, 5=unknown, 6=unknown)\n",
        "- MARRIAGE: Marital status (1=married, 2=single, 3=others)\n",
        "- AGE: Age in years\n",
        "- PAY_0: Repayment status in September, 2005 (-1=pay duly, 1=payment delay for one month, 2=payment delay for two months, … 8=payment delay for eight months, 9=payment delay for nine months and above)\n",
        "- PAY_2: Repayment status in August, 2005 (scale same as above)\n",
        "- PAY_3: Repayment status in July, 2005 (scale same as above)\n",
        "- PAY_4: Repayment status in June, 2005 (scale same as above)\n",
        "- PAY_5: Repayment status in May, 2005 (scale same as above)\n",
        "- PAY_6: Repayment status in April, 2005 (scale same as above)\n",
        "- BILL_AMT1: Amount of bill statement in September, 2005 (NT dollar)\n",
        "- BILL_AMT2: Amount of bill statement in August, 2005 (NT dollar)\n",
        "- BILL_AMT3: Amount of bill statement in July, 2005 (NT dollar)\n",
        "- BILL_AMT4: Amount of bill statement in June, 2005 (NT dollar)\n",
        "- BILL_AMT5: Amount of bill statement in May, 2005 (NT dollar)\n",
        "- BILL_AMT6: Amount of bill statement in April, 2005 (NT dollar)\n",
        "- PAY_AMT1: Amount of previous payment in September, 2005 (NT dollar)\n",
        "- PAY_AMT2: Amount of previous payment in August, 2005 (NT dollar)\n",
        "- PAY_AMT3: Amount of previous payment in July, 2005 (NT dollar)\n",
        "- PAY_AMT4: Amount of previous payment in June, 2005 (NT dollar)\n",
        "- PAY_AMT5: Amount of previous payment in May, 2005 (NT dollar)\n",
        "- PAY_AMT6: Amount of previous payment in April, 2005 (NT dollar)\n",
        "- default.payment.next.month: Default payment (1=yes, 0=no)\n"
      ]
    },
    {
      "cell_type": "code",
      "metadata": {
        "colab": {
          "base_uri": "https://localhost:8080/",
          "height": 456
        },
        "id": "1x3J_i6RvQkD",
        "outputId": "c484e4e4-ead4-47dc-ef87-776df28a4202"
      },
      "source": [
        "drive.mount('/content/gdrive')\n",
        "credit = pd.read_csv(r'/content/gdrive/MyDrive/DS5110/UCI_Credit_Card.csv')\n",
        "credit"
      ],
      "execution_count": 2,
      "outputs": [
        {
          "output_type": "stream",
          "text": [
            "Mounted at /content/gdrive\n"
          ],
          "name": "stdout"
        },
        {
          "output_type": "execute_result",
          "data": {
            "text/html": [
              "<div>\n",
              "<style scoped>\n",
              "    .dataframe tbody tr th:only-of-type {\n",
              "        vertical-align: middle;\n",
              "    }\n",
              "\n",
              "    .dataframe tbody tr th {\n",
              "        vertical-align: top;\n",
              "    }\n",
              "\n",
              "    .dataframe thead th {\n",
              "        text-align: right;\n",
              "    }\n",
              "</style>\n",
              "<table border=\"1\" class=\"dataframe\">\n",
              "  <thead>\n",
              "    <tr style=\"text-align: right;\">\n",
              "      <th></th>\n",
              "      <th>ID</th>\n",
              "      <th>LIMIT_BAL</th>\n",
              "      <th>SEX</th>\n",
              "      <th>EDUCATION</th>\n",
              "      <th>MARRIAGE</th>\n",
              "      <th>AGE</th>\n",
              "      <th>PAY_0</th>\n",
              "      <th>PAY_2</th>\n",
              "      <th>PAY_3</th>\n",
              "      <th>PAY_4</th>\n",
              "      <th>PAY_5</th>\n",
              "      <th>PAY_6</th>\n",
              "      <th>BILL_AMT1</th>\n",
              "      <th>BILL_AMT2</th>\n",
              "      <th>BILL_AMT3</th>\n",
              "      <th>BILL_AMT4</th>\n",
              "      <th>BILL_AMT5</th>\n",
              "      <th>BILL_AMT6</th>\n",
              "      <th>PAY_AMT1</th>\n",
              "      <th>PAY_AMT2</th>\n",
              "      <th>PAY_AMT3</th>\n",
              "      <th>PAY_AMT4</th>\n",
              "      <th>PAY_AMT5</th>\n",
              "      <th>PAY_AMT6</th>\n",
              "      <th>default.payment.next.month</th>\n",
              "    </tr>\n",
              "  </thead>\n",
              "  <tbody>\n",
              "    <tr>\n",
              "      <th>0</th>\n",
              "      <td>1</td>\n",
              "      <td>20000.0</td>\n",
              "      <td>2</td>\n",
              "      <td>2</td>\n",
              "      <td>1</td>\n",
              "      <td>24</td>\n",
              "      <td>2</td>\n",
              "      <td>2</td>\n",
              "      <td>-1</td>\n",
              "      <td>-1</td>\n",
              "      <td>-2</td>\n",
              "      <td>-2</td>\n",
              "      <td>3913.0</td>\n",
              "      <td>3102.0</td>\n",
              "      <td>689.0</td>\n",
              "      <td>0.0</td>\n",
              "      <td>0.0</td>\n",
              "      <td>0.0</td>\n",
              "      <td>0.0</td>\n",
              "      <td>689.0</td>\n",
              "      <td>0.0</td>\n",
              "      <td>0.0</td>\n",
              "      <td>0.0</td>\n",
              "      <td>0.0</td>\n",
              "      <td>1</td>\n",
              "    </tr>\n",
              "    <tr>\n",
              "      <th>1</th>\n",
              "      <td>2</td>\n",
              "      <td>120000.0</td>\n",
              "      <td>2</td>\n",
              "      <td>2</td>\n",
              "      <td>2</td>\n",
              "      <td>26</td>\n",
              "      <td>-1</td>\n",
              "      <td>2</td>\n",
              "      <td>0</td>\n",
              "      <td>0</td>\n",
              "      <td>0</td>\n",
              "      <td>2</td>\n",
              "      <td>2682.0</td>\n",
              "      <td>1725.0</td>\n",
              "      <td>2682.0</td>\n",
              "      <td>3272.0</td>\n",
              "      <td>3455.0</td>\n",
              "      <td>3261.0</td>\n",
              "      <td>0.0</td>\n",
              "      <td>1000.0</td>\n",
              "      <td>1000.0</td>\n",
              "      <td>1000.0</td>\n",
              "      <td>0.0</td>\n",
              "      <td>2000.0</td>\n",
              "      <td>1</td>\n",
              "    </tr>\n",
              "    <tr>\n",
              "      <th>2</th>\n",
              "      <td>3</td>\n",
              "      <td>90000.0</td>\n",
              "      <td>2</td>\n",
              "      <td>2</td>\n",
              "      <td>2</td>\n",
              "      <td>34</td>\n",
              "      <td>0</td>\n",
              "      <td>0</td>\n",
              "      <td>0</td>\n",
              "      <td>0</td>\n",
              "      <td>0</td>\n",
              "      <td>0</td>\n",
              "      <td>29239.0</td>\n",
              "      <td>14027.0</td>\n",
              "      <td>13559.0</td>\n",
              "      <td>14331.0</td>\n",
              "      <td>14948.0</td>\n",
              "      <td>15549.0</td>\n",
              "      <td>1518.0</td>\n",
              "      <td>1500.0</td>\n",
              "      <td>1000.0</td>\n",
              "      <td>1000.0</td>\n",
              "      <td>1000.0</td>\n",
              "      <td>5000.0</td>\n",
              "      <td>0</td>\n",
              "    </tr>\n",
              "    <tr>\n",
              "      <th>3</th>\n",
              "      <td>4</td>\n",
              "      <td>50000.0</td>\n",
              "      <td>2</td>\n",
              "      <td>2</td>\n",
              "      <td>1</td>\n",
              "      <td>37</td>\n",
              "      <td>0</td>\n",
              "      <td>0</td>\n",
              "      <td>0</td>\n",
              "      <td>0</td>\n",
              "      <td>0</td>\n",
              "      <td>0</td>\n",
              "      <td>46990.0</td>\n",
              "      <td>48233.0</td>\n",
              "      <td>49291.0</td>\n",
              "      <td>28314.0</td>\n",
              "      <td>28959.0</td>\n",
              "      <td>29547.0</td>\n",
              "      <td>2000.0</td>\n",
              "      <td>2019.0</td>\n",
              "      <td>1200.0</td>\n",
              "      <td>1100.0</td>\n",
              "      <td>1069.0</td>\n",
              "      <td>1000.0</td>\n",
              "      <td>0</td>\n",
              "    </tr>\n",
              "    <tr>\n",
              "      <th>4</th>\n",
              "      <td>5</td>\n",
              "      <td>50000.0</td>\n",
              "      <td>1</td>\n",
              "      <td>2</td>\n",
              "      <td>1</td>\n",
              "      <td>57</td>\n",
              "      <td>-1</td>\n",
              "      <td>0</td>\n",
              "      <td>-1</td>\n",
              "      <td>0</td>\n",
              "      <td>0</td>\n",
              "      <td>0</td>\n",
              "      <td>8617.0</td>\n",
              "      <td>5670.0</td>\n",
              "      <td>35835.0</td>\n",
              "      <td>20940.0</td>\n",
              "      <td>19146.0</td>\n",
              "      <td>19131.0</td>\n",
              "      <td>2000.0</td>\n",
              "      <td>36681.0</td>\n",
              "      <td>10000.0</td>\n",
              "      <td>9000.0</td>\n",
              "      <td>689.0</td>\n",
              "      <td>679.0</td>\n",
              "      <td>0</td>\n",
              "    </tr>\n",
              "    <tr>\n",
              "      <th>...</th>\n",
              "      <td>...</td>\n",
              "      <td>...</td>\n",
              "      <td>...</td>\n",
              "      <td>...</td>\n",
              "      <td>...</td>\n",
              "      <td>...</td>\n",
              "      <td>...</td>\n",
              "      <td>...</td>\n",
              "      <td>...</td>\n",
              "      <td>...</td>\n",
              "      <td>...</td>\n",
              "      <td>...</td>\n",
              "      <td>...</td>\n",
              "      <td>...</td>\n",
              "      <td>...</td>\n",
              "      <td>...</td>\n",
              "      <td>...</td>\n",
              "      <td>...</td>\n",
              "      <td>...</td>\n",
              "      <td>...</td>\n",
              "      <td>...</td>\n",
              "      <td>...</td>\n",
              "      <td>...</td>\n",
              "      <td>...</td>\n",
              "      <td>...</td>\n",
              "    </tr>\n",
              "    <tr>\n",
              "      <th>29995</th>\n",
              "      <td>29996</td>\n",
              "      <td>220000.0</td>\n",
              "      <td>1</td>\n",
              "      <td>3</td>\n",
              "      <td>1</td>\n",
              "      <td>39</td>\n",
              "      <td>0</td>\n",
              "      <td>0</td>\n",
              "      <td>0</td>\n",
              "      <td>0</td>\n",
              "      <td>0</td>\n",
              "      <td>0</td>\n",
              "      <td>188948.0</td>\n",
              "      <td>192815.0</td>\n",
              "      <td>208365.0</td>\n",
              "      <td>88004.0</td>\n",
              "      <td>31237.0</td>\n",
              "      <td>15980.0</td>\n",
              "      <td>8500.0</td>\n",
              "      <td>20000.0</td>\n",
              "      <td>5003.0</td>\n",
              "      <td>3047.0</td>\n",
              "      <td>5000.0</td>\n",
              "      <td>1000.0</td>\n",
              "      <td>0</td>\n",
              "    </tr>\n",
              "    <tr>\n",
              "      <th>29996</th>\n",
              "      <td>29997</td>\n",
              "      <td>150000.0</td>\n",
              "      <td>1</td>\n",
              "      <td>3</td>\n",
              "      <td>2</td>\n",
              "      <td>43</td>\n",
              "      <td>-1</td>\n",
              "      <td>-1</td>\n",
              "      <td>-1</td>\n",
              "      <td>-1</td>\n",
              "      <td>0</td>\n",
              "      <td>0</td>\n",
              "      <td>1683.0</td>\n",
              "      <td>1828.0</td>\n",
              "      <td>3502.0</td>\n",
              "      <td>8979.0</td>\n",
              "      <td>5190.0</td>\n",
              "      <td>0.0</td>\n",
              "      <td>1837.0</td>\n",
              "      <td>3526.0</td>\n",
              "      <td>8998.0</td>\n",
              "      <td>129.0</td>\n",
              "      <td>0.0</td>\n",
              "      <td>0.0</td>\n",
              "      <td>0</td>\n",
              "    </tr>\n",
              "    <tr>\n",
              "      <th>29997</th>\n",
              "      <td>29998</td>\n",
              "      <td>30000.0</td>\n",
              "      <td>1</td>\n",
              "      <td>2</td>\n",
              "      <td>2</td>\n",
              "      <td>37</td>\n",
              "      <td>4</td>\n",
              "      <td>3</td>\n",
              "      <td>2</td>\n",
              "      <td>-1</td>\n",
              "      <td>0</td>\n",
              "      <td>0</td>\n",
              "      <td>3565.0</td>\n",
              "      <td>3356.0</td>\n",
              "      <td>2758.0</td>\n",
              "      <td>20878.0</td>\n",
              "      <td>20582.0</td>\n",
              "      <td>19357.0</td>\n",
              "      <td>0.0</td>\n",
              "      <td>0.0</td>\n",
              "      <td>22000.0</td>\n",
              "      <td>4200.0</td>\n",
              "      <td>2000.0</td>\n",
              "      <td>3100.0</td>\n",
              "      <td>1</td>\n",
              "    </tr>\n",
              "    <tr>\n",
              "      <th>29998</th>\n",
              "      <td>29999</td>\n",
              "      <td>80000.0</td>\n",
              "      <td>1</td>\n",
              "      <td>3</td>\n",
              "      <td>1</td>\n",
              "      <td>41</td>\n",
              "      <td>1</td>\n",
              "      <td>-1</td>\n",
              "      <td>0</td>\n",
              "      <td>0</td>\n",
              "      <td>0</td>\n",
              "      <td>-1</td>\n",
              "      <td>-1645.0</td>\n",
              "      <td>78379.0</td>\n",
              "      <td>76304.0</td>\n",
              "      <td>52774.0</td>\n",
              "      <td>11855.0</td>\n",
              "      <td>48944.0</td>\n",
              "      <td>85900.0</td>\n",
              "      <td>3409.0</td>\n",
              "      <td>1178.0</td>\n",
              "      <td>1926.0</td>\n",
              "      <td>52964.0</td>\n",
              "      <td>1804.0</td>\n",
              "      <td>1</td>\n",
              "    </tr>\n",
              "    <tr>\n",
              "      <th>29999</th>\n",
              "      <td>30000</td>\n",
              "      <td>50000.0</td>\n",
              "      <td>1</td>\n",
              "      <td>2</td>\n",
              "      <td>1</td>\n",
              "      <td>46</td>\n",
              "      <td>0</td>\n",
              "      <td>0</td>\n",
              "      <td>0</td>\n",
              "      <td>0</td>\n",
              "      <td>0</td>\n",
              "      <td>0</td>\n",
              "      <td>47929.0</td>\n",
              "      <td>48905.0</td>\n",
              "      <td>49764.0</td>\n",
              "      <td>36535.0</td>\n",
              "      <td>32428.0</td>\n",
              "      <td>15313.0</td>\n",
              "      <td>2078.0</td>\n",
              "      <td>1800.0</td>\n",
              "      <td>1430.0</td>\n",
              "      <td>1000.0</td>\n",
              "      <td>1000.0</td>\n",
              "      <td>1000.0</td>\n",
              "      <td>1</td>\n",
              "    </tr>\n",
              "  </tbody>\n",
              "</table>\n",
              "<p>30000 rows × 25 columns</p>\n",
              "</div>"
            ],
            "text/plain": [
              "          ID  LIMIT_BAL  SEX  ...  PAY_AMT5  PAY_AMT6  default.payment.next.month\n",
              "0          1    20000.0    2  ...       0.0       0.0                           1\n",
              "1          2   120000.0    2  ...       0.0    2000.0                           1\n",
              "2          3    90000.0    2  ...    1000.0    5000.0                           0\n",
              "3          4    50000.0    2  ...    1069.0    1000.0                           0\n",
              "4          5    50000.0    1  ...     689.0     679.0                           0\n",
              "...      ...        ...  ...  ...       ...       ...                         ...\n",
              "29995  29996   220000.0    1  ...    5000.0    1000.0                           0\n",
              "29996  29997   150000.0    1  ...       0.0       0.0                           0\n",
              "29997  29998    30000.0    1  ...    2000.0    3100.0                           1\n",
              "29998  29999    80000.0    1  ...   52964.0    1804.0                           1\n",
              "29999  30000    50000.0    1  ...    1000.0    1000.0                           1\n",
              "\n",
              "[30000 rows x 25 columns]"
            ]
          },
          "metadata": {
            "tags": []
          },
          "execution_count": 2
        }
      ]
    },
    {
      "cell_type": "markdown",
      "metadata": {
        "id": "pZR-39PwvQkE"
      },
      "source": [
        "We will be using this dataset to predict if a user will have a default payment in the next month or not. In the dataset, this information is available in the 'default.payment.next.month' feature."
      ]
    },
    {
      "cell_type": "code",
      "metadata": {
        "id": "czeY7K78vQkF",
        "colab": {
          "base_uri": "https://localhost:8080/"
        },
        "outputId": "cd24ae6a-250e-4a62-b262-37788ef84caa"
      },
      "source": [
        "credit.columns"
      ],
      "execution_count": 3,
      "outputs": [
        {
          "output_type": "execute_result",
          "data": {
            "text/plain": [
              "Index(['ID', 'LIMIT_BAL', 'SEX', 'EDUCATION', 'MARRIAGE', 'AGE', 'PAY_0',\n",
              "       'PAY_2', 'PAY_3', 'PAY_4', 'PAY_5', 'PAY_6', 'BILL_AMT1', 'BILL_AMT2',\n",
              "       'BILL_AMT3', 'BILL_AMT4', 'BILL_AMT5', 'BILL_AMT6', 'PAY_AMT1',\n",
              "       'PAY_AMT2', 'PAY_AMT3', 'PAY_AMT4', 'PAY_AMT5', 'PAY_AMT6',\n",
              "       'default.payment.next.month'],\n",
              "      dtype='object')"
            ]
          },
          "metadata": {
            "tags": []
          },
          "execution_count": 3
        }
      ]
    },
    {
      "cell_type": "markdown",
      "metadata": {
        "id": "A0eHFh7TvQkG"
      },
      "source": [
        "Let's answer some preliminary questions about the dataset."
      ]
    },
    {
      "cell_type": "markdown",
      "metadata": {
        "id": "EFO9PeYqvQkH"
      },
      "source": [
        "##### Question 1:  ( 2 points )\n",
        "\n",
        "How many data entry (rows) are present in this dataset"
      ]
    },
    {
      "cell_type": "code",
      "metadata": {
        "id": "7WyJV2HTvQkI",
        "colab": {
          "base_uri": "https://localhost:8080/"
        },
        "outputId": "62863e2d-a922-45f5-f13c-2e31dff064d5"
      },
      "source": [
        "## Question 1\n",
        "## YOUR CODE HERE\n",
        "credit.shape[0]"
      ],
      "execution_count": 4,
      "outputs": [
        {
          "output_type": "execute_result",
          "data": {
            "text/plain": [
              "30000"
            ]
          },
          "metadata": {
            "tags": []
          },
          "execution_count": 4
        }
      ]
    },
    {
      "cell_type": "markdown",
      "metadata": {
        "id": "h4RcGLPuvQkJ"
      },
      "source": [
        "##### Question 2:  ( 2 points )\n",
        "\n",
        "How many users are atleast 70 years old?"
      ]
    },
    {
      "cell_type": "code",
      "metadata": {
        "id": "Tn0CUVHIvQkJ",
        "colab": {
          "base_uri": "https://localhost:8080/"
        },
        "outputId": "533d8ad3-5e8e-466c-d334-839d7be0c6bc"
      },
      "source": [
        "## Question 2\n",
        "## YOUR CODE HERE\n",
        "user_age = credit[credit['AGE'] >= 70]\n",
        "user_age.shape[0]"
      ],
      "execution_count": 5,
      "outputs": [
        {
          "output_type": "execute_result",
          "data": {
            "text/plain": [
              "25"
            ]
          },
          "metadata": {
            "tags": []
          },
          "execution_count": 5
        }
      ]
    },
    {
      "cell_type": "markdown",
      "metadata": {
        "id": "HTEMhsPfvQkK"
      },
      "source": [
        "##### Question 3: ( 2 points )\n",
        "\n",
        "How many users are younger than 25 years?"
      ]
    },
    {
      "cell_type": "code",
      "metadata": {
        "id": "iIe6TA_PvQkK",
        "colab": {
          "base_uri": "https://localhost:8080/"
        },
        "outputId": "fc1585ab-0010-4a9a-c52e-44b9e503e393"
      },
      "source": [
        "## Question 3\n",
        "## YOUR CODE HERE\n",
        "user_age = credit[credit['AGE'] < 25]\n",
        "user_age.shape[0]"
      ],
      "execution_count": 6,
      "outputs": [
        {
          "output_type": "execute_result",
          "data": {
            "text/plain": [
              "2685"
            ]
          },
          "metadata": {
            "tags": []
          },
          "execution_count": 6
        }
      ]
    },
    {
      "cell_type": "markdown",
      "metadata": {
        "id": "fiV9ViSpvQkL"
      },
      "source": [
        "Default refers to the failure to repay a debt including interest or principal on a loan or security. A default can occur when a borrower is unable to make timely payments, misses payments, or avoids or stops making payments. In the dataset, this information is available in the 'default.payment.next.month' feature."
      ]
    },
    {
      "cell_type": "markdown",
      "metadata": {
        "id": "wfFGNIXRvQkL"
      },
      "source": [
        "##### Question 4: ( 2 points )\n",
        "What percentage of the users don't have a default payment?\\\n",
        "(1=yes, 0=no)"
      ]
    },
    {
      "cell_type": "code",
      "metadata": {
        "id": "LWheziYfvQkO",
        "colab": {
          "base_uri": "https://localhost:8080/"
        },
        "outputId": "44413b3c-1f73-4f9a-f15a-4f85434b8969"
      },
      "source": [
        "## Question 4\n",
        "## YOUR CODE HERE\n",
        "#Look up the sum number of no default payment and on default payment in \"default.payment.next.month\" column\n",
        "non_default = credit['default.payment.next.month'].isin([0]).sum()\n",
        "default_payment = credit['default.payment.next.month'].isin([1]).sum()\n",
        "print(\"0 =\", non_default)\n",
        "print(\"1 = \", default_payment)\n",
        "none_default = 100 - round(credit['default.payment.next.month'].mean() * 100, 2)\n",
        "print(\"The percentage of the users don't have a default payment: {:0.2f}%\".format(none_default))"
      ],
      "execution_count": 7,
      "outputs": [
        {
          "output_type": "stream",
          "text": [
            "0 = 23364\n",
            "1 =  6636\n",
            "The percentage of the users don't have a default payment: 77.88%\n"
          ],
          "name": "stdout"
        }
      ]
    },
    {
      "cell_type": "markdown",
      "metadata": {
        "id": "cP5PZ6kAEhDy"
      },
      "source": [
        ""
      ]
    },
    {
      "cell_type": "markdown",
      "metadata": {
        "id": "o8UPeU8svQkP"
      },
      "source": [
        "##### Question 5: ( 2 points )\n",
        "Among all users atleast 70 years old,\n",
        "What percentage of users don't have a default payment? "
      ]
    },
    {
      "cell_type": "code",
      "metadata": {
        "id": "W2Cq2pCdvQkP",
        "colab": {
          "base_uri": "https://localhost:8080/"
        },
        "outputId": "78cedf43-d680-475c-d6d5-54bb885454b0"
      },
      "source": [
        "## Question 5\n",
        "## YOUR CODE HERE\n",
        "# non_default = 100 - round(credit['default.payment.next.month'].mean() * 100, 2)\n",
        "# user_age_70 = credit[credit['AGE'] >= 70]\n",
        "# nre_df = user_age_70.groupby\n",
        "# credit.groupby('AGE')['default.payment.next.month'].mean()\n",
        "# test = credit.groupby('AGE')['default.payment.next.month'].count()\n",
        "# test\n",
        "\n",
        "copy_df = credit.copy()\n",
        "l = copy_df.loc[lambda c : c['AGE'] >= 70]\n",
        "default_filter = l.loc[lambda f : f['default.payment.next.month'].isin([0])]\n",
        "percentage_seventy = (default_filter.shape[0] / l.shape[0]) * 100\n",
        "print(\"The percentage of users don't have a default payment among all users at least 70: {:0.2f}%\".format(percentage_seventy))"
      ],
      "execution_count": 8,
      "outputs": [
        {
          "output_type": "stream",
          "text": [
            "The percentage of users don't have a default payment among all users at least 70: 72.00%\n"
          ],
          "name": "stdout"
        }
      ]
    },
    {
      "cell_type": "markdown",
      "metadata": {
        "id": "cBDdf7aSEJOL"
      },
      "source": [
        "Source: [Filter rows with operator chaining](https://)"
      ]
    },
    {
      "cell_type": "markdown",
      "metadata": {
        "id": "dyay8c2evQkQ"
      },
      "source": [
        "##### Question 6: ( 2 points )\n",
        "Among all users younger than 25 years,\n",
        "What percentage of users don't have a default payment? "
      ]
    },
    {
      "cell_type": "code",
      "metadata": {
        "id": "LuTii8bRvQkQ",
        "colab": {
          "base_uri": "https://localhost:8080/"
        },
        "outputId": "f6e3762d-b7d5-4877-ec00-596c633daf31"
      },
      "source": [
        "## Question 6\n",
        "## YOUR CODE HERE\n",
        "# test1 = ((credit['AGE'] <= 25).sum() / credit['default.payment.next.month'].isin([0]).sum()) * 100\n",
        "# test1\n",
        "\n",
        "copy_df1 = credit.copy()\n",
        "l1 = copy_df1.loc[lambda c : c['AGE'] < 25]\n",
        "default_filter1 = l1.loc[lambda f : f['default.payment.next.month'].isin([0])]\n",
        "percentage_twentyfive = (default_filter1.shape[0] / l1.shape[0]) * 100\n",
        "print(\"The percentage of users don't have a default payment among all users younger than 25 : {:0.2f}%\".format(percentage_twentyfive))"
      ],
      "execution_count": 9,
      "outputs": [
        {
          "output_type": "stream",
          "text": [
            "The percentage of users don't have a default payment among all users younger than 25 : 72.81%\n"
          ],
          "name": "stdout"
        }
      ]
    },
    {
      "cell_type": "markdown",
      "metadata": {
        "id": "JFRml64VvQkQ"
      },
      "source": [
        "Suppose you are given a model that predicts if a user will have a default payment in the next month or not. We want to analyze the privacy implications associated with these predictions.\n",
        "\n",
        "We aren't particularly concerned about the specifics of the model. We want to use a simple model and analyze the privacy implications. \n",
        "\n",
        "In order to do this, we will create a model that predicts if a user will have a default payment in the next month or not using logistic regression. \n",
        "\n",
        "Additional resource: <https://machinelearningmastery.com/logistic-regression-tutorial-for-machine-learning/>\n",
        "\n",
        "The model takes in input features (features 2-24). \n",
        "The 25th feature, 'default.payment.next.month' is used as the ground truth for the predictions. \n",
        "The output is the prediction (if a user will have a default payment in the next month). \n",
        "\n",
        "Some caveats about the model implementation:\n",
        "- There can be better models used for this prediction task.\n",
        "- Feature scaling can be done in a meaningful way.\n",
        "- Feature engineering can be done to modify features based on domain knowledge.\n",
        "\n",
        "\n",
        "The cell below takes care of the model creation, training, and testing for you. You don't have to write any code in this cell. "
      ]
    },
    {
      "cell_type": "code",
      "metadata": {
        "id": "Xz-6qItOvQkQ",
        "colab": {
          "base_uri": "https://localhost:8080/"
        },
        "outputId": "fbe84f6e-26a5-4b7a-83c0-82385fecd7d6"
      },
      "source": [
        "## 'y' represents the ground truth for the predictions\n",
        "y = credit['default.payment.next.month'].copy()\n",
        "\n",
        "## Columns that represent the input features\n",
        "features = ['LIMIT_BAL','SEX','EDUCATION', 'MARRIAGE', 'AGE', 'PAY_0', 'PAY_2',\n",
        "       'PAY_3', 'PAY_4', 'PAY_5', 'PAY_6', 'BILL_AMT1', 'BILL_AMT2',\n",
        "       'BILL_AMT3', 'BILL_AMT4', 'BILL_AMT5', 'BILL_AMT6', 'PAY_AMT1',\n",
        "       'PAY_AMT2', 'PAY_AMT3', 'PAY_AMT4', 'PAY_AMT5', 'PAY_AMT6']\n",
        "\n",
        "## 'X' represents the input data\n",
        "X = credit[features].copy()\n",
        "\n",
        "## Splitting the dataset into a training and testing datasets\n",
        "## The model is trained using the training dataset\n",
        "## The model is tested using the testing dataset \n",
        "## ( data that the model hasn't seen before)\n",
        "\n",
        "X_train, X_test, y_train, y_test = train_test_split(X, y, test_size=0.20, random_state=42)\n",
        "\n",
        "## Let's define 'credit_test' for further analyses\n",
        "## credit_test is the subset of the dataframe used for testing\n",
        "credit_test = pd.DataFrame(X_test,columns=features)\n",
        "\n",
        "## Standardizing the features\n",
        "scX = StandardScaler()\n",
        "X_train = scX.fit_transform(X_train)\n",
        "X_test = scX.transform(X_test)\n",
        "\n",
        "## Defining the classifier\n",
        "classifier = LogisticRegression(solver='lbfgs')\n",
        "\n",
        "## Training the classifer\n",
        "classifier.fit(X_train, y_train)\n",
        "\n",
        "## Predictions using the testing data inputs\n",
        "## 'y_pred' contains the predictions\n",
        "y_pred = classifier.predict(X_test)\n",
        "\n",
        "## Evaluating the accuracy of the model\n",
        "cm = confusion_matrix( y_test, y_pred )\n",
        "print(\"Accuracy on Test Set = %.2f\" % ((cm[0,0] + cm[1,1] )/len(X_test)))\n",
        "\n",
        "## Adding the predictions to the credit_test dataframe\n",
        "## We will be using this dataframe \n",
        "credit_test['y_test']=y_test\n",
        "credit_test['y_pred']=y_pred\n"
      ],
      "execution_count": 10,
      "outputs": [
        {
          "output_type": "stream",
          "text": [
            "Accuracy on Test Set = 0.81\n"
          ],
          "name": "stdout"
        }
      ]
    },
    {
      "cell_type": "markdown",
      "metadata": {
        "id": "Lr8quNu9vQkR"
      },
      "source": [
        "Let's look at the 'credit_test' dataframe. Notice the 'y_test' column ( this represents the ground truth ) and 'y_pred' column ( this represents the model predictions )"
      ]
    },
    {
      "cell_type": "code",
      "metadata": {
        "id": "JO9mpV0hvQkR",
        "colab": {
          "base_uri": "https://localhost:8080/",
          "height": 439
        },
        "outputId": "dbf42d70-dcd3-4988-c9a4-bb32db55e170"
      },
      "source": [
        "credit_test"
      ],
      "execution_count": 11,
      "outputs": [
        {
          "output_type": "execute_result",
          "data": {
            "text/html": [
              "<div>\n",
              "<style scoped>\n",
              "    .dataframe tbody tr th:only-of-type {\n",
              "        vertical-align: middle;\n",
              "    }\n",
              "\n",
              "    .dataframe tbody tr th {\n",
              "        vertical-align: top;\n",
              "    }\n",
              "\n",
              "    .dataframe thead th {\n",
              "        text-align: right;\n",
              "    }\n",
              "</style>\n",
              "<table border=\"1\" class=\"dataframe\">\n",
              "  <thead>\n",
              "    <tr style=\"text-align: right;\">\n",
              "      <th></th>\n",
              "      <th>LIMIT_BAL</th>\n",
              "      <th>SEX</th>\n",
              "      <th>EDUCATION</th>\n",
              "      <th>MARRIAGE</th>\n",
              "      <th>AGE</th>\n",
              "      <th>PAY_0</th>\n",
              "      <th>PAY_2</th>\n",
              "      <th>PAY_3</th>\n",
              "      <th>PAY_4</th>\n",
              "      <th>PAY_5</th>\n",
              "      <th>PAY_6</th>\n",
              "      <th>BILL_AMT1</th>\n",
              "      <th>BILL_AMT2</th>\n",
              "      <th>BILL_AMT3</th>\n",
              "      <th>BILL_AMT4</th>\n",
              "      <th>BILL_AMT5</th>\n",
              "      <th>BILL_AMT6</th>\n",
              "      <th>PAY_AMT1</th>\n",
              "      <th>PAY_AMT2</th>\n",
              "      <th>PAY_AMT3</th>\n",
              "      <th>PAY_AMT4</th>\n",
              "      <th>PAY_AMT5</th>\n",
              "      <th>PAY_AMT6</th>\n",
              "      <th>y_test</th>\n",
              "      <th>y_pred</th>\n",
              "    </tr>\n",
              "  </thead>\n",
              "  <tbody>\n",
              "    <tr>\n",
              "      <th>2308</th>\n",
              "      <td>30000.0</td>\n",
              "      <td>1</td>\n",
              "      <td>2</td>\n",
              "      <td>2</td>\n",
              "      <td>25</td>\n",
              "      <td>0</td>\n",
              "      <td>0</td>\n",
              "      <td>0</td>\n",
              "      <td>0</td>\n",
              "      <td>0</td>\n",
              "      <td>0</td>\n",
              "      <td>8864.0</td>\n",
              "      <td>10062.0</td>\n",
              "      <td>11581.0</td>\n",
              "      <td>12580.0</td>\n",
              "      <td>13716.0</td>\n",
              "      <td>14828.0</td>\n",
              "      <td>1500.0</td>\n",
              "      <td>2000.0</td>\n",
              "      <td>1500.0</td>\n",
              "      <td>1500.0</td>\n",
              "      <td>1500.0</td>\n",
              "      <td>2000.0</td>\n",
              "      <td>0</td>\n",
              "      <td>0</td>\n",
              "    </tr>\n",
              "    <tr>\n",
              "      <th>22404</th>\n",
              "      <td>150000.0</td>\n",
              "      <td>2</td>\n",
              "      <td>1</td>\n",
              "      <td>2</td>\n",
              "      <td>26</td>\n",
              "      <td>0</td>\n",
              "      <td>0</td>\n",
              "      <td>0</td>\n",
              "      <td>0</td>\n",
              "      <td>0</td>\n",
              "      <td>0</td>\n",
              "      <td>136736.0</td>\n",
              "      <td>125651.0</td>\n",
              "      <td>116684.0</td>\n",
              "      <td>101581.0</td>\n",
              "      <td>77741.0</td>\n",
              "      <td>77264.0</td>\n",
              "      <td>4486.0</td>\n",
              "      <td>4235.0</td>\n",
              "      <td>3161.0</td>\n",
              "      <td>2647.0</td>\n",
              "      <td>2669.0</td>\n",
              "      <td>2669.0</td>\n",
              "      <td>0</td>\n",
              "      <td>0</td>\n",
              "    </tr>\n",
              "    <tr>\n",
              "      <th>23397</th>\n",
              "      <td>70000.0</td>\n",
              "      <td>2</td>\n",
              "      <td>3</td>\n",
              "      <td>1</td>\n",
              "      <td>32</td>\n",
              "      <td>0</td>\n",
              "      <td>0</td>\n",
              "      <td>0</td>\n",
              "      <td>0</td>\n",
              "      <td>0</td>\n",
              "      <td>0</td>\n",
              "      <td>70122.0</td>\n",
              "      <td>69080.0</td>\n",
              "      <td>68530.0</td>\n",
              "      <td>69753.0</td>\n",
              "      <td>70111.0</td>\n",
              "      <td>70212.0</td>\n",
              "      <td>2431.0</td>\n",
              "      <td>3112.0</td>\n",
              "      <td>3000.0</td>\n",
              "      <td>2438.0</td>\n",
              "      <td>2500.0</td>\n",
              "      <td>2554.0</td>\n",
              "      <td>0</td>\n",
              "      <td>0</td>\n",
              "    </tr>\n",
              "    <tr>\n",
              "      <th>25058</th>\n",
              "      <td>130000.0</td>\n",
              "      <td>1</td>\n",
              "      <td>3</td>\n",
              "      <td>2</td>\n",
              "      <td>49</td>\n",
              "      <td>0</td>\n",
              "      <td>0</td>\n",
              "      <td>0</td>\n",
              "      <td>0</td>\n",
              "      <td>0</td>\n",
              "      <td>-1</td>\n",
              "      <td>20678.0</td>\n",
              "      <td>18956.0</td>\n",
              "      <td>16172.0</td>\n",
              "      <td>16898.0</td>\n",
              "      <td>11236.0</td>\n",
              "      <td>6944.0</td>\n",
              "      <td>1610.0</td>\n",
              "      <td>1808.0</td>\n",
              "      <td>7014.0</td>\n",
              "      <td>27.0</td>\n",
              "      <td>7011.0</td>\n",
              "      <td>4408.0</td>\n",
              "      <td>0</td>\n",
              "      <td>0</td>\n",
              "    </tr>\n",
              "    <tr>\n",
              "      <th>2664</th>\n",
              "      <td>50000.0</td>\n",
              "      <td>2</td>\n",
              "      <td>2</td>\n",
              "      <td>2</td>\n",
              "      <td>36</td>\n",
              "      <td>0</td>\n",
              "      <td>0</td>\n",
              "      <td>0</td>\n",
              "      <td>0</td>\n",
              "      <td>0</td>\n",
              "      <td>2</td>\n",
              "      <td>94228.0</td>\n",
              "      <td>47635.0</td>\n",
              "      <td>42361.0</td>\n",
              "      <td>19574.0</td>\n",
              "      <td>20295.0</td>\n",
              "      <td>19439.0</td>\n",
              "      <td>2000.0</td>\n",
              "      <td>1500.0</td>\n",
              "      <td>1000.0</td>\n",
              "      <td>1800.0</td>\n",
              "      <td>0.0</td>\n",
              "      <td>1000.0</td>\n",
              "      <td>1</td>\n",
              "      <td>0</td>\n",
              "    </tr>\n",
              "    <tr>\n",
              "      <th>...</th>\n",
              "      <td>...</td>\n",
              "      <td>...</td>\n",
              "      <td>...</td>\n",
              "      <td>...</td>\n",
              "      <td>...</td>\n",
              "      <td>...</td>\n",
              "      <td>...</td>\n",
              "      <td>...</td>\n",
              "      <td>...</td>\n",
              "      <td>...</td>\n",
              "      <td>...</td>\n",
              "      <td>...</td>\n",
              "      <td>...</td>\n",
              "      <td>...</td>\n",
              "      <td>...</td>\n",
              "      <td>...</td>\n",
              "      <td>...</td>\n",
              "      <td>...</td>\n",
              "      <td>...</td>\n",
              "      <td>...</td>\n",
              "      <td>...</td>\n",
              "      <td>...</td>\n",
              "      <td>...</td>\n",
              "      <td>...</td>\n",
              "      <td>...</td>\n",
              "    </tr>\n",
              "    <tr>\n",
              "      <th>2210</th>\n",
              "      <td>360000.0</td>\n",
              "      <td>2</td>\n",
              "      <td>1</td>\n",
              "      <td>2</td>\n",
              "      <td>27</td>\n",
              "      <td>1</td>\n",
              "      <td>-2</td>\n",
              "      <td>-1</td>\n",
              "      <td>-1</td>\n",
              "      <td>-1</td>\n",
              "      <td>-1</td>\n",
              "      <td>0.0</td>\n",
              "      <td>0.0</td>\n",
              "      <td>830.0</td>\n",
              "      <td>0.0</td>\n",
              "      <td>1271.0</td>\n",
              "      <td>179.0</td>\n",
              "      <td>0.0</td>\n",
              "      <td>830.0</td>\n",
              "      <td>0.0</td>\n",
              "      <td>1271.0</td>\n",
              "      <td>179.0</td>\n",
              "      <td>1970.0</td>\n",
              "      <td>0</td>\n",
              "      <td>0</td>\n",
              "    </tr>\n",
              "    <tr>\n",
              "      <th>14144</th>\n",
              "      <td>500000.0</td>\n",
              "      <td>2</td>\n",
              "      <td>1</td>\n",
              "      <td>2</td>\n",
              "      <td>28</td>\n",
              "      <td>2</td>\n",
              "      <td>0</td>\n",
              "      <td>0</td>\n",
              "      <td>2</td>\n",
              "      <td>0</td>\n",
              "      <td>0</td>\n",
              "      <td>98541.0</td>\n",
              "      <td>102052.0</td>\n",
              "      <td>111690.0</td>\n",
              "      <td>78070.0</td>\n",
              "      <td>78376.0</td>\n",
              "      <td>80912.0</td>\n",
              "      <td>6000.0</td>\n",
              "      <td>13151.0</td>\n",
              "      <td>0.0</td>\n",
              "      <td>3000.0</td>\n",
              "      <td>5000.0</td>\n",
              "      <td>10000.0</td>\n",
              "      <td>1</td>\n",
              "      <td>0</td>\n",
              "    </tr>\n",
              "    <tr>\n",
              "      <th>23108</th>\n",
              "      <td>60000.0</td>\n",
              "      <td>2</td>\n",
              "      <td>1</td>\n",
              "      <td>1</td>\n",
              "      <td>28</td>\n",
              "      <td>0</td>\n",
              "      <td>0</td>\n",
              "      <td>0</td>\n",
              "      <td>0</td>\n",
              "      <td>0</td>\n",
              "      <td>2</td>\n",
              "      <td>46233.0</td>\n",
              "      <td>47263.0</td>\n",
              "      <td>48696.0</td>\n",
              "      <td>50385.0</td>\n",
              "      <td>52045.0</td>\n",
              "      <td>52661.0</td>\n",
              "      <td>2100.0</td>\n",
              "      <td>2500.0</td>\n",
              "      <td>2500.0</td>\n",
              "      <td>2500.0</td>\n",
              "      <td>1600.0</td>\n",
              "      <td>1500.0</td>\n",
              "      <td>0</td>\n",
              "      <td>0</td>\n",
              "    </tr>\n",
              "    <tr>\n",
              "      <th>25703</th>\n",
              "      <td>20000.0</td>\n",
              "      <td>2</td>\n",
              "      <td>1</td>\n",
              "      <td>2</td>\n",
              "      <td>29</td>\n",
              "      <td>1</td>\n",
              "      <td>-1</td>\n",
              "      <td>-1</td>\n",
              "      <td>-1</td>\n",
              "      <td>-1</td>\n",
              "      <td>-1</td>\n",
              "      <td>0.0</td>\n",
              "      <td>2494.0</td>\n",
              "      <td>3967.0</td>\n",
              "      <td>1364.0</td>\n",
              "      <td>600.0</td>\n",
              "      <td>0.0</td>\n",
              "      <td>2494.0</td>\n",
              "      <td>3967.0</td>\n",
              "      <td>1370.0</td>\n",
              "      <td>600.0</td>\n",
              "      <td>0.0</td>\n",
              "      <td>0.0</td>\n",
              "      <td>0</td>\n",
              "      <td>0</td>\n",
              "    </tr>\n",
              "    <tr>\n",
              "      <th>29171</th>\n",
              "      <td>510000.0</td>\n",
              "      <td>2</td>\n",
              "      <td>3</td>\n",
              "      <td>1</td>\n",
              "      <td>61</td>\n",
              "      <td>0</td>\n",
              "      <td>0</td>\n",
              "      <td>0</td>\n",
              "      <td>2</td>\n",
              "      <td>0</td>\n",
              "      <td>0</td>\n",
              "      <td>187070.0</td>\n",
              "      <td>181733.0</td>\n",
              "      <td>192903.0</td>\n",
              "      <td>181801.0</td>\n",
              "      <td>178179.0</td>\n",
              "      <td>223100.0</td>\n",
              "      <td>8500.0</td>\n",
              "      <td>17000.0</td>\n",
              "      <td>0.0</td>\n",
              "      <td>6508.0</td>\n",
              "      <td>50000.0</td>\n",
              "      <td>7000.0</td>\n",
              "      <td>0</td>\n",
              "      <td>0</td>\n",
              "    </tr>\n",
              "  </tbody>\n",
              "</table>\n",
              "<p>6000 rows × 25 columns</p>\n",
              "</div>"
            ],
            "text/plain": [
              "       LIMIT_BAL  SEX  EDUCATION  MARRIAGE  ...  PAY_AMT5  PAY_AMT6  y_test  y_pred\n",
              "2308     30000.0    1          2         2  ...    1500.0    2000.0       0       0\n",
              "22404   150000.0    2          1         2  ...    2669.0    2669.0       0       0\n",
              "23397    70000.0    2          3         1  ...    2500.0    2554.0       0       0\n",
              "25058   130000.0    1          3         2  ...    7011.0    4408.0       0       0\n",
              "2664     50000.0    2          2         2  ...       0.0    1000.0       1       0\n",
              "...          ...  ...        ...       ...  ...       ...       ...     ...     ...\n",
              "2210    360000.0    2          1         2  ...     179.0    1970.0       0       0\n",
              "14144   500000.0    2          1         2  ...    5000.0   10000.0       1       0\n",
              "23108    60000.0    2          1         1  ...    1600.0    1500.0       0       0\n",
              "25703    20000.0    2          1         2  ...       0.0       0.0       0       0\n",
              "29171   510000.0    2          3         1  ...   50000.0    7000.0       0       0\n",
              "\n",
              "[6000 rows x 25 columns]"
            ]
          },
          "metadata": {
            "tags": []
          },
          "execution_count": 11
        }
      ]
    },
    {
      "cell_type": "markdown",
      "metadata": {
        "id": "iUxIdQzuvQkS"
      },
      "source": [
        "##### Question 7:  ( 2 points )\n",
        "\n",
        "How many data entry (rows) are present in the 'credit_test' dataframe"
      ]
    },
    {
      "cell_type": "code",
      "metadata": {
        "id": "ygNswCe2vQkS",
        "colab": {
          "base_uri": "https://localhost:8080/"
        },
        "outputId": "0bcc7b8c-6d6d-4a0f-fc1f-dfeb1c1902c2"
      },
      "source": [
        "## Question 7\n",
        "## YOUR CODE HERE\n",
        "credit_test.shape[0]"
      ],
      "execution_count": 12,
      "outputs": [
        {
          "output_type": "execute_result",
          "data": {
            "text/plain": [
              "6000"
            ]
          },
          "metadata": {
            "tags": []
          },
          "execution_count": 12
        }
      ]
    },
    {
      "cell_type": "markdown",
      "metadata": {
        "id": "6gyQQ47PvQkS"
      },
      "source": [
        "For this prediction model, no default payment can be considered as a positive outcome.\n",
        "\n",
        "Therefore 'y_pred = 0' is a positive outcome.\n",
        "\n",
        "To analyze if this model is fair, \\\n",
        "Let's look at one definition of mathematical fairness.\n",
        "\n",
        "Demographic parity: \n",
        "\n",
        "Demographic Parity states that each segment of a protected class (e.g. gender, age, race) should receive the positive outcome at equal rates\n",
        "\n",
        "ie the Positive Rate for group A should be the same as the Positive Rate for group B.\n",
        "\n",
        "\n"
      ]
    },
    {
      "cell_type": "markdown",
      "metadata": {
        "id": "vq9U441GvQkT"
      },
      "source": [
        "First, let's consider two groups: \\\n",
        "Group A: users with age >= 50 \\\n",
        "Group B: users with age < 50"
      ]
    },
    {
      "cell_type": "markdown",
      "metadata": {
        "id": "Jg6ppDU_vQkT"
      },
      "source": [
        "##### Question 8:  ( 2 points )\n",
        "\n",
        "In 'credit_test',\n",
        "Among all users atleast 50 years old,\n",
        "What percentage of users don't have a default payment prediction? "
      ]
    },
    {
      "cell_type": "code",
      "metadata": {
        "colab": {
          "base_uri": "https://localhost:8080/"
        },
        "id": "cbwQgrQw3Mvk",
        "outputId": "12a2358b-1689-4885-c5e3-d737a7f1b1fd"
      },
      "source": [
        "credit_test.columns"
      ],
      "execution_count": 13,
      "outputs": [
        {
          "output_type": "execute_result",
          "data": {
            "text/plain": [
              "Index(['LIMIT_BAL', 'SEX', 'EDUCATION', 'MARRIAGE', 'AGE', 'PAY_0', 'PAY_2',\n",
              "       'PAY_3', 'PAY_4', 'PAY_5', 'PAY_6', 'BILL_AMT1', 'BILL_AMT2',\n",
              "       'BILL_AMT3', 'BILL_AMT4', 'BILL_AMT5', 'BILL_AMT6', 'PAY_AMT1',\n",
              "       'PAY_AMT2', 'PAY_AMT3', 'PAY_AMT4', 'PAY_AMT5', 'PAY_AMT6', 'y_test',\n",
              "       'y_pred'],\n",
              "      dtype='object')"
            ]
          },
          "metadata": {
            "tags": []
          },
          "execution_count": 13
        }
      ]
    },
    {
      "cell_type": "code",
      "metadata": {
        "id": "UuMViMtmvQkT",
        "colab": {
          "base_uri": "https://localhost:8080/"
        },
        "outputId": "b26be9cc-0c05-48c3-db6e-73173e4e563e"
      },
      "source": [
        "## Question 8:\n",
        "## YOUR CODE HERE\n",
        "copy_df_test = credit_test.copy()\n",
        "new_frame = copy_df_test.loc[lambda c : c['AGE'] >= 50]\n",
        "frame_filter = new_frame.loc[lambda f : f['y_pred'].isin([0])]\n",
        "percentage_atleast_fifty = (frame_filter.shape[0] / new_frame.shape[0]) * 100\n",
        "print(\"The percentage of users don't have a default payment among all users at least 50: {:0.2f}%\".format(percentage_atleast_fifty))"
      ],
      "execution_count": 14,
      "outputs": [
        {
          "output_type": "stream",
          "text": [
            "The percentage of users don't have a default payment among all users at least 50: 88.62%\n"
          ],
          "name": "stdout"
        }
      ]
    },
    {
      "cell_type": "markdown",
      "metadata": {
        "id": "Q2dCGi2yvQkT"
      },
      "source": [
        "##### Question 9:  ( 2 points )\n",
        "\n",
        "In 'credit_test',\n",
        "Among all users younger than 50 years old,\n",
        "What percentage of users don't have a default payment prediction? "
      ]
    },
    {
      "cell_type": "code",
      "metadata": {
        "id": "K8a2NiIAvQkT",
        "colab": {
          "base_uri": "https://localhost:8080/"
        },
        "outputId": "3ca47623-ef03-44ff-a38e-a09d292703da"
      },
      "source": [
        "## Question 9:\n",
        "## YOUR CODE HERE\n",
        "copy_df_test = credit_test.copy()\n",
        "new_frame = copy_df_test.loc[lambda c : c['AGE'] < 50]\n",
        "frame_filter = new_frame.loc[lambda f : f['y_pred'].isin([0])]\n",
        "percentage_younger_fifty = (frame_filter.shape[0] / new_frame.shape[0]) * 100\n",
        "print(\"The percentage of users don't have a default payment among all users younger than 50: {:0.2f}%\".format(percentage_younger_fifty))"
      ],
      "execution_count": 15,
      "outputs": [
        {
          "output_type": "stream",
          "text": [
            "The percentage of users don't have a default payment among all users younger than 50: 92.92%\n"
          ],
          "name": "stdout"
        }
      ]
    },
    {
      "cell_type": "markdown",
      "metadata": {
        "id": "wZc_QBxwvQkU"
      },
      "source": [
        "We notice that the computed quantities are the Positive Rates for the respective groups. \n",
        "\n",
        "Now let's consider two groups, \\\n",
        "Group C: users with age >=70 \n",
        "Group D: users with age < 25"
      ]
    },
    {
      "cell_type": "markdown",
      "metadata": {
        "id": "h_1QfI5EvQkU"
      },
      "source": [
        "##### Question 10:  ( 2 points )\n",
        "\n",
        "In 'credit_test',\n",
        "Among all users atleast 70 years old,\n",
        "What percentage of users don't have a default payment prediction? "
      ]
    },
    {
      "cell_type": "code",
      "metadata": {
        "id": "JuLDPtGNvQkV",
        "colab": {
          "base_uri": "https://localhost:8080/"
        },
        "outputId": "2b2ff46b-f4b2-4fa1-dd23-4b18d9c69f71"
      },
      "source": [
        "## Question 10:\n",
        "## YOUR CODE HERE\n",
        "new_frame = copy_df_test.loc[lambda c : c['AGE'] >= 70]\n",
        "frame_filter = new_frame.loc[lambda f : f['y_pred'].isin([0])]\n",
        "percentage_atleast_seventy = (frame_filter.shape[0] / new_frame.shape[0]) * 100\n",
        "print(\"The percentage of users don't have a default payment among all users at least 70: {:0.2f}%\".format(percentage_atleast_seventy))"
      ],
      "execution_count": 16,
      "outputs": [
        {
          "output_type": "stream",
          "text": [
            "The percentage of users don't have a default payment among all users at least 70: 33.33%\n"
          ],
          "name": "stdout"
        }
      ]
    },
    {
      "cell_type": "markdown",
      "metadata": {
        "id": "y2mtcL_wvQkV"
      },
      "source": [
        "##### Question 11:  ( 2 points )\n",
        "\n",
        "In 'credit_test',\n",
        "Among all users younger than 25 years old,\n",
        "What percentage of users don't have a default payment prediction? "
      ]
    },
    {
      "cell_type": "code",
      "metadata": {
        "id": "mhWkqyBYvQkV",
        "colab": {
          "base_uri": "https://localhost:8080/"
        },
        "outputId": "27c96d88-2ec9-41f6-c430-a67d71e460cc"
      },
      "source": [
        "## Question 11\n",
        "## YOUR CODE HERE\n",
        "new_frame = copy_df_test.loc[lambda c : c['AGE'] < 25]\n",
        "frame_filter = new_frame.loc[lambda f : f['y_pred'].isin([0])]\n",
        "percentage_younger_25 = (frame_filter.shape[0] / new_frame.shape[0]) * 100\n",
        "print(\"The percentage of users don't have a default payment among all users younger than 25: {:0.2f}%\".format(percentage_younger_25))"
      ],
      "execution_count": 17,
      "outputs": [
        {
          "output_type": "stream",
          "text": [
            "The percentage of users don't have a default payment among all users younger than 25: 89.23%\n"
          ],
          "name": "stdout"
        }
      ]
    },
    {
      "cell_type": "markdown",
      "metadata": {
        "id": "kPYfr1OLvQkV"
      },
      "source": [
        "We can observe that the Positive Rate for group D is much higher than the Positive Rate for group C. Therefore, the model predictions don't satisfy demographic parity for groups C and D. \n",
        "\n",
        "From this idea of demographic parity, we can infer that the model's outputs are not similar for different demographic groups under consideration.\n",
        "\n",
        "If fairness is achieved through demographic parity, the positive rates for each demographic group would be similar. The model's predictions can't be used to identify a demographic group definitely. \n",
        "\n",
        "If fairness is not acheived, depending on the group and the model, even if the input data is completely anonymized, the output from the model can be used to identify users. The predicted output can be used as a quasi-identifier in combination with external information. "
      ]
    },
    {
      "cell_type": "markdown",
      "metadata": {
        "id": "7TvdrY04vQkV"
      },
      "source": [
        "##### Question 12:  ( 3 points )\n",
        "\n",
        "(a) Suggest 1 method through which privacy can be enhanced or preserved at the input data step. \n",
        "\n",
        "(b) Suggest 1 method through which privacy can be enhanced or preserved at the model training or model testing step. \n",
        "\n",
        "(c) Suggest 1 method through which privacy can be enhanced or preserved at the output/prediction step. \n",
        "\n",
        "Note: this is an open ended question and is an active area of research. Feel free to suggest techniques/methods that you think may work and justify very briefly. "
      ]
    },
    {
      "cell_type": "markdown",
      "metadata": {
        "id": "MFT3sB5FvQkV"
      },
      "source": [
        "***\n",
        "\n",
        "Enter your answer in the 'Submitted answers' cell.\n",
        "\n",
        "***\n",
        "\n",
        "( Double click the cell below to edit it )\n",
        "\n",
        "***"
      ]
    },
    {
      "cell_type": "markdown",
      "metadata": {
        "id": "8tfrfUzPvQkV"
      },
      "source": [
        "# Submitted answers:\n",
        "\n",
        "\n",
        "* Q.1 : [2] No. of rows - <b>30000</b>\n",
        "\n",
        "\n",
        "* Q.2 : [2] No. of users atleast 70 years old - <b>25</b>\n",
        "\n",
        "\n",
        "* Q.3 : [2] No. of users younger than 25 years - <b>2685</b>\n",
        "\n",
        "\n",
        "* Q.4 : [2] % of users who didn't have a default payment -  <b>77.88%</b>\n",
        "\n",
        "\n",
        "* Q.5 : [2] Among users atleast 70 years old, % who didn't have a default payment - <b>72.00%</b>\n",
        "\n",
        "\n",
        "* Q.6 : [2] Among users younger than 25 years, % who didn't have a default payment - <b>72.81%</b>\n",
        "\n",
        "\n",
        "* Q.7 : [2] No. of rows - <b>6000</b>\n",
        "\n",
        "\n",
        "* Q.8 : [2]  Among users atleast 50 years old, % who didn't have a default payment  - <b>88.62%</b>\n",
        "\n",
        "\n",
        "* Q.9 : [2] Among users younger than 50 years, % who didn't have a default payment - <b>92.92%</b>\n",
        "\n",
        "\n",
        "* Q.10 : [2] Among users atleast 70 years old, % who didn't have a default payment -  <b>33.33%</b>\n",
        "\n",
        "\n",
        "* Q.11 : [2] Among users younger than 25 years, % who didn't have a default payment - <b>89.23%</b>\n",
        "\n",
        "\n",
        "* Q.12 : [3] <b></b>\n",
        "\n",
        "\n",
        " - (a) One method to enhance privacy technique at the input data step is through Crytographic algorithms – Homomorphic encryption: method that enables computational operations on encrypted data. It generates an encrypted result which, when decrypted, matches the result of the operations as if they had been performed on unencrypted data (i.e. plaintext). Source: [Privacy Enhancing Technique](https://research.aimultiple.com/privacy-enhancing-technologies/)\n",
        " \n",
        " \n",
        " - (b) One method can be perserved at model training is the coopetitive method. The method setting would provides a stronger security because the aggregator does not see the individual updates, nor do the parties see the intermediate aggregated models – all of these are exchanged in encrypted form and kept that way. Source: [Model Training](https://www.ericsson.com/en/blog/2020/2/training-a-machine-learning-model)\n",
        " \n",
        " \n",
        " - (c) One method can be perserved at output step is Secure Multi-Party Computation. The method that allows separate parties to jointly compute a common function while keeping both the inputs and the function parameters private. It allows a model to be trained or applied to data from different sources without disclosing the training data items or the model’s weights. Source: [Output step](https://blog.openmined.org/private-machine-learning-explained/)\n",
        "\n",
        "\n",
        "\n",
        "\n",
        "\n",
        "\n",
        "\n",
        "\n",
        "\n",
        "\n",
        "\n"
      ]
    }
  ]
}