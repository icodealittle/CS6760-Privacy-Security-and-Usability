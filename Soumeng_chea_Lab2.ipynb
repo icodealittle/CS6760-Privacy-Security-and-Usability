{
  "nbformat": 4,
  "nbformat_minor": 0,
  "metadata": {
    "kernelspec": {
      "display_name": "Python 3",
      "language": "python",
      "name": "python3"
    },
    "language_info": {
      "codemirror_mode": {
        "name": "ipython",
        "version": 3
      },
      "file_extension": ".py",
      "mimetype": "text/x-python",
      "name": "python",
      "nbconvert_exporter": "python",
      "pygments_lexer": "ipython3",
      "version": "3.8.5"
    },
    "colab": {
      "name": "Soumeng_chea_Lab2.ipynb",
      "provenance": [],
      "collapsed_sections": []
    }
  },
  "cells": [
    {
      "cell_type": "markdown",
      "metadata": {
        "id": "okN9_Pltvcsu"
      },
      "source": [
        "# Lab 2: CS 6760\n",
        "\n",
        "\n",
        "## Introduction to Privacy Engineering, Summer 2021\n",
        "\n",
        "\n",
        "## Data Mining\n",
        "\n",
        "##### Installation:\n",
        "\n",
        "Same as Lab 1. <br>No additional packages are required.\n",
        "\n",
        "##### This lab consists of 7 questions.\n",
        "\n",
        "We will be using the 'Strava cycling data of multiple segments in Jeddah' dataset for this lab. \n",
        "\n",
        "##### Grading rubric: for each question,\n",
        "100% of the points - Correct code, correct output<br>\n",
        "50% of the points - Minor logical error, partial output<br>\n",
        "0% of the points - No attempt, incomplete code, wrong output\n",
        "\n",
        "##### Submission instructions\n",
        "\n",
        "You will have to submit the completed jupyter notebook file (.ipynb) in Canvas.\n",
        "\n",
        "### Note: The last cell of this .ipynb is a markdown cell for your answers. <br>Please fill this cell to complete your lab submission. \n",
        "\n",
        "The coding cells can be used for computations or observations. <br>\n",
        "\n",
        "\n",
        "***\n",
        "***\n",
        "\n",
        "##### Dataset\n",
        "\n",
        "##### Strava cycling data of multiple segments in Jeddah, Saudi Arabia\n",
        "\n",
        "Strava is a social platform for cyclists and runners to share their activity and form groups.\n",
        "\n",
        "A Strava Segment is an activity path with limited distance which anybody can take (given that they are recording an activity) to participate in a leaderboard to see who is the fastest.\n",
        "\n",
        "Features:\n",
        "\n",
        "- user_age_group: The age group of the participant\n",
        "- user_id: The User ID of the participant\n",
        "- attempt_date: The date of attempt of the entry in the leaderboard\n",
        "- gender: The gender of the participant\n",
        "- smt_rank: The participant's rank in the leaderboard\n",
        "- smt_avg_spd: The participant's average speed in km/h within the segment\n",
        "- smt_finish_seconds: The time taken for the participant to complete the segment in seconds\n",
        "- smt_name: The name of the segment\n",
        "- user_weight_category: The weight category of the participant\n",
        "- act_title: The title of the activity which included the segment attempt\n",
        "- act_avg_spd: The participant's average speed in km/h during the activity\n",
        "- act_max_spd: The participant's maximum speed in km/h during the activity\n",
        "- act_total_km: The total distance of the participant's activity in kilometers\n",
        "- act_moving_seconds: The total time which the participant spent moving during the activity in seconds\n",
        "- act_total_seconds: The total time of the activity (including stop times) in seconds\n",
        "- has_hr_data: Whether there was data of participant's heart rate in the segment attempt\n",
        "\n",
        "https://www.kaggle.com/baghlafturki/strava-jeddah-segments-leaderboard\n",
        "\n",
        "This dataset is available in your HW zip file. \n",
        "\n",
        "\n",
        "***\n",
        "\n"
      ]
    },
    {
      "cell_type": "markdown",
      "metadata": {
        "id": "gmzes_Nbvcsx"
      },
      "source": [
        "#### Loading the file"
      ]
    },
    {
      "cell_type": "code",
      "metadata": {
        "id": "KYPtWWSCvcsx"
      },
      "source": [
        "# Loading libraries \n",
        "\n",
        "import numpy as np\n",
        "import math\n",
        "import pandas as pd"
      ],
      "execution_count": 1,
      "outputs": []
    },
    {
      "cell_type": "code",
      "metadata": {
        "colab": {
          "base_uri": "https://localhost:8080/",
          "height": 377
        },
        "id": "yEDxzk8Gvcsy",
        "outputId": "fcd9c2b5-34e6-4b29-8acc-746412717e8f"
      },
      "source": [
        "# Reading the data file\n",
        "# Each row represents a user activity entry \n",
        "url = \"https://raw.githubusercontent.com/icodealittle/SU2021_CS6760/main/jeddah_strava_segments.csv\"\n",
        "df = pd.read_csv(url)\n",
        "df.head(5)"
      ],
      "execution_count": 2,
      "outputs": [
        {
          "output_type": "execute_result",
          "data": {
            "text/html": [
              "<div>\n",
              "<style scoped>\n",
              "    .dataframe tbody tr th:only-of-type {\n",
              "        vertical-align: middle;\n",
              "    }\n",
              "\n",
              "    .dataframe tbody tr th {\n",
              "        vertical-align: top;\n",
              "    }\n",
              "\n",
              "    .dataframe thead th {\n",
              "        text-align: right;\n",
              "    }\n",
              "</style>\n",
              "<table border=\"1\" class=\"dataframe\">\n",
              "  <thead>\n",
              "    <tr style=\"text-align: right;\">\n",
              "      <th></th>\n",
              "      <th>user_age_group</th>\n",
              "      <th>user_id</th>\n",
              "      <th>attempt_date</th>\n",
              "      <th>gender</th>\n",
              "      <th>smt_rank</th>\n",
              "      <th>smt_avg_spd</th>\n",
              "      <th>smt_finish_seconds</th>\n",
              "      <th>smt_name</th>\n",
              "      <th>user_weight_category</th>\n",
              "      <th>act_title</th>\n",
              "      <th>act_avg_spd</th>\n",
              "      <th>act_max_spd</th>\n",
              "      <th>act_total_km</th>\n",
              "      <th>act_moving_seconds</th>\n",
              "      <th>act_total_seconds</th>\n",
              "      <th>has_hr_data</th>\n",
              "    </tr>\n",
              "  </thead>\n",
              "  <tbody>\n",
              "    <tr>\n",
              "      <th>0</th>\n",
              "      <td>19 and under</td>\n",
              "      <td>1</td>\n",
              "      <td>2018-12-10</td>\n",
              "      <td>male</td>\n",
              "      <td>1</td>\n",
              "      <td>58.7</td>\n",
              "      <td>240</td>\n",
              "      <td>Starbucks to Majid</td>\n",
              "      <td>54 kg and under</td>\n",
              "      <td>Afternoon Ride</td>\n",
              "      <td>37.0</td>\n",
              "      <td>150.8</td>\n",
              "      <td>52.93</td>\n",
              "      <td>5147</td>\n",
              "      <td>5147</td>\n",
              "      <td>0</td>\n",
              "    </tr>\n",
              "    <tr>\n",
              "      <th>1</th>\n",
              "      <td>19 and under</td>\n",
              "      <td>2</td>\n",
              "      <td>2019-04-27</td>\n",
              "      <td>male</td>\n",
              "      <td>2</td>\n",
              "      <td>39.9</td>\n",
              "      <td>353</td>\n",
              "      <td>Starbucks to Majid</td>\n",
              "      <td>65 to 74 kg</td>\n",
              "      <td>Morning Ride</td>\n",
              "      <td>37.3</td>\n",
              "      <td>53.3</td>\n",
              "      <td>42.06</td>\n",
              "      <td>4057</td>\n",
              "      <td>4057</td>\n",
              "      <td>0</td>\n",
              "    </tr>\n",
              "    <tr>\n",
              "      <th>2</th>\n",
              "      <td>19 and under</td>\n",
              "      <td>3</td>\n",
              "      <td>2019-12-13</td>\n",
              "      <td>male</td>\n",
              "      <td>3</td>\n",
              "      <td>36.4</td>\n",
              "      <td>387</td>\n",
              "      <td>Starbucks to Majid</td>\n",
              "      <td>65 to 74 kg</td>\n",
              "      <td>تمرين صباحي جميل winking face flexed biceps ma...</td>\n",
              "      <td>26.3</td>\n",
              "      <td>46.4</td>\n",
              "      <td>65.43</td>\n",
              "      <td>8962</td>\n",
              "      <td>8962</td>\n",
              "      <td>0</td>\n",
              "    </tr>\n",
              "    <tr>\n",
              "      <th>3</th>\n",
              "      <td>19 and under</td>\n",
              "      <td>4</td>\n",
              "      <td>2017-12-28</td>\n",
              "      <td>male</td>\n",
              "      <td>4</td>\n",
              "      <td>36.2</td>\n",
              "      <td>389</td>\n",
              "      <td>Starbucks to Majid</td>\n",
              "      <td>54 kg and under</td>\n",
              "      <td>Morning Ride</td>\n",
              "      <td>31.4</td>\n",
              "      <td>45.4</td>\n",
              "      <td>44.60</td>\n",
              "      <td>5121</td>\n",
              "      <td>5121</td>\n",
              "      <td>0</td>\n",
              "    </tr>\n",
              "    <tr>\n",
              "      <th>4</th>\n",
              "      <td>19 and under</td>\n",
              "      <td>5</td>\n",
              "      <td>2015-02-09</td>\n",
              "      <td>male</td>\n",
              "      <td>5</td>\n",
              "      <td>35.0</td>\n",
              "      <td>402</td>\n",
              "      <td>Starbucks to Majid</td>\n",
              "      <td>54 kg and under</td>\n",
              "      <td>Evening Speeders Group Ride</td>\n",
              "      <td>20.2</td>\n",
              "      <td>46.8</td>\n",
              "      <td>103.59</td>\n",
              "      <td>18504</td>\n",
              "      <td>18504</td>\n",
              "      <td>0</td>\n",
              "    </tr>\n",
              "  </tbody>\n",
              "</table>\n",
              "</div>"
            ],
            "text/plain": [
              "  user_age_group  user_id  ... act_total_seconds has_hr_data\n",
              "0   19 and under        1  ...              5147           0\n",
              "1   19 and under        2  ...              4057           0\n",
              "2   19 and under        3  ...              8962           0\n",
              "3   19 and under        4  ...              5121           0\n",
              "4   19 and under        5  ...             18504           0\n",
              "\n",
              "[5 rows x 16 columns]"
            ]
          },
          "metadata": {
            "tags": []
          },
          "execution_count": 2
        }
      ]
    },
    {
      "cell_type": "markdown",
      "metadata": {
        "id": "NDQlR1Q2vcsz"
      },
      "source": [
        "Each row of this dataframe represents a user activity entry. <br>\n",
        "Each column of this dataframe represents a feature associated with the user entry. <br><br>"
      ]
    },
    {
      "cell_type": "code",
      "metadata": {
        "colab": {
          "base_uri": "https://localhost:8080/"
        },
        "id": "OfXKHRuxvcsz",
        "outputId": "41a21ee4-468a-407b-b1af-44d3dbea729c"
      },
      "source": [
        "# Printing the rows and columns\n",
        "\n",
        "print(\"The dataframe contains \",df.shape[0],\" rows.\")\n",
        "print(\"The dataframe contains \",df.shape[1],\" columns.\")"
      ],
      "execution_count": 3,
      "outputs": [
        {
          "output_type": "stream",
          "text": [
            "The dataframe contains  7865  rows.\n",
            "The dataframe contains  16  columns.\n"
          ],
          "name": "stdout"
        }
      ]
    },
    {
      "cell_type": "code",
      "metadata": {
        "colab": {
          "base_uri": "https://localhost:8080/"
        },
        "id": "vDe92i50vcsz",
        "outputId": "75e74166-beaa-435f-d7be-f6007d1ab09c"
      },
      "source": [
        "# Printing the names of the columns\n",
        "\n",
        "for col in df.columns: \n",
        "    print(col) "
      ],
      "execution_count": 4,
      "outputs": [
        {
          "output_type": "stream",
          "text": [
            "user_age_group\n",
            "user_id\n",
            "attempt_date\n",
            "gender\n",
            "smt_rank\n",
            "smt_avg_spd\n",
            "smt_finish_seconds\n",
            "smt_name\n",
            "user_weight_category\n",
            "act_title\n",
            "act_avg_spd\n",
            "act_max_spd\n",
            "act_total_km\n",
            "act_moving_seconds\n",
            "act_total_seconds\n",
            "has_hr_data\n"
          ],
          "name": "stdout"
        }
      ]
    },
    {
      "cell_type": "markdown",
      "metadata": {
        "id": "0Mxkyj1Uvcs0"
      },
      "source": [
        "The description of these features can be found at the first markdown cell ( on top ) of this .ipynb\n",
        "<br><br>\n",
        "Among these columns, let's look at the user age group."
      ]
    },
    {
      "cell_type": "code",
      "metadata": {
        "colab": {
          "base_uri": "https://localhost:8080/",
          "height": 419
        },
        "id": "vX_z_4LKvcs0",
        "outputId": "de3fc51d-da10-4c3c-e25c-75e7b6450a2f"
      },
      "source": [
        "# The filter function is used here to extract a subset of columns from the dataset.\n",
        "\n",
        "df.filter(['user_age_group'])"
      ],
      "execution_count": 5,
      "outputs": [
        {
          "output_type": "execute_result",
          "data": {
            "text/html": [
              "<div>\n",
              "<style scoped>\n",
              "    .dataframe tbody tr th:only-of-type {\n",
              "        vertical-align: middle;\n",
              "    }\n",
              "\n",
              "    .dataframe tbody tr th {\n",
              "        vertical-align: top;\n",
              "    }\n",
              "\n",
              "    .dataframe thead th {\n",
              "        text-align: right;\n",
              "    }\n",
              "</style>\n",
              "<table border=\"1\" class=\"dataframe\">\n",
              "  <thead>\n",
              "    <tr style=\"text-align: right;\">\n",
              "      <th></th>\n",
              "      <th>user_age_group</th>\n",
              "    </tr>\n",
              "  </thead>\n",
              "  <tbody>\n",
              "    <tr>\n",
              "      <th>0</th>\n",
              "      <td>19 and under</td>\n",
              "    </tr>\n",
              "    <tr>\n",
              "      <th>1</th>\n",
              "      <td>19 and under</td>\n",
              "    </tr>\n",
              "    <tr>\n",
              "      <th>2</th>\n",
              "      <td>19 and under</td>\n",
              "    </tr>\n",
              "    <tr>\n",
              "      <th>3</th>\n",
              "      <td>19 and under</td>\n",
              "    </tr>\n",
              "    <tr>\n",
              "      <th>4</th>\n",
              "      <td>19 and under</td>\n",
              "    </tr>\n",
              "    <tr>\n",
              "      <th>...</th>\n",
              "      <td>...</td>\n",
              "    </tr>\n",
              "    <tr>\n",
              "      <th>7860</th>\n",
              "      <td>70 to 74</td>\n",
              "    </tr>\n",
              "    <tr>\n",
              "      <th>7861</th>\n",
              "      <td>75+</td>\n",
              "    </tr>\n",
              "    <tr>\n",
              "      <th>7862</th>\n",
              "      <td>75+</td>\n",
              "    </tr>\n",
              "    <tr>\n",
              "      <th>7863</th>\n",
              "      <td>75+</td>\n",
              "    </tr>\n",
              "    <tr>\n",
              "      <th>7864</th>\n",
              "      <td>75+</td>\n",
              "    </tr>\n",
              "  </tbody>\n",
              "</table>\n",
              "<p>7865 rows × 1 columns</p>\n",
              "</div>"
            ],
            "text/plain": [
              "     user_age_group\n",
              "0      19 and under\n",
              "1      19 and under\n",
              "2      19 and under\n",
              "3      19 and under\n",
              "4      19 and under\n",
              "...             ...\n",
              "7860       70 to 74\n",
              "7861            75+\n",
              "7862            75+\n",
              "7863            75+\n",
              "7864            75+\n",
              "\n",
              "[7865 rows x 1 columns]"
            ]
          },
          "metadata": {
            "tags": []
          },
          "execution_count": 5
        }
      ]
    },
    {
      "cell_type": "markdown",
      "metadata": {
        "id": "CNn4vHgevcs0"
      },
      "source": [
        "What are the user age groups  present in this dataset? <br><br>\n",
        "We can use Pandas' \"unique\" function to filter out all the repeating values in a column. <br>"
      ]
    },
    {
      "cell_type": "code",
      "metadata": {
        "colab": {
          "base_uri": "https://localhost:8080/"
        },
        "id": "Nzkj70W2vcs1",
        "outputId": "8c69c07c-8cfb-4821-de71-c41641babdcf"
      },
      "source": [
        "# Printing the unique values \n",
        "for grp in df.user_age_group.unique():\n",
        "    print(grp)"
      ],
      "execution_count": 6,
      "outputs": [
        {
          "output_type": "stream",
          "text": [
            "19 and under\n",
            "20 to 24\n",
            "25 to 34\n",
            "35 to 44\n",
            "45 to 54\n",
            "55 to 64\n",
            "65 to 69\n",
            "75+\n",
            "70 to 74\n"
          ],
          "name": "stdout"
        }
      ]
    },
    {
      "cell_type": "markdown",
      "metadata": {
        "id": "nivyuQ2Mvcs1"
      },
      "source": [
        "How many user entries are present per age group? \n",
        " \n",
        "<br>Let's find out the number of user entries per age group.\n",
        "<br> Since each row represents a user entry, <br>\n",
        "We want to count the number of rows for each of the 'user_age_group' categories. \n",
        "\n",
        "<br> Using Pandas,\n",
        "<br> We can do this by grouping the data based on the column values in 'user_age_group' <br> and counting the number of rows for each group.\n",
        "<br> The functions used are 'groupby' and 'count'."
      ]
    },
    {
      "cell_type": "code",
      "metadata": {
        "colab": {
          "base_uri": "https://localhost:8080/",
          "height": 379
        },
        "id": "rWCJKHrDvcs1",
        "outputId": "e8769707-519e-4f41-a738-3afd545fd17a"
      },
      "source": [
        "# Using grouping and counting to find the number of user entries per age group.\n",
        "\n",
        "df.groupby('user_age_group').count()\n"
      ],
      "execution_count": 7,
      "outputs": [
        {
          "output_type": "execute_result",
          "data": {
            "text/html": [
              "<div>\n",
              "<style scoped>\n",
              "    .dataframe tbody tr th:only-of-type {\n",
              "        vertical-align: middle;\n",
              "    }\n",
              "\n",
              "    .dataframe tbody tr th {\n",
              "        vertical-align: top;\n",
              "    }\n",
              "\n",
              "    .dataframe thead th {\n",
              "        text-align: right;\n",
              "    }\n",
              "</style>\n",
              "<table border=\"1\" class=\"dataframe\">\n",
              "  <thead>\n",
              "    <tr style=\"text-align: right;\">\n",
              "      <th></th>\n",
              "      <th>user_id</th>\n",
              "      <th>attempt_date</th>\n",
              "      <th>gender</th>\n",
              "      <th>smt_rank</th>\n",
              "      <th>smt_avg_spd</th>\n",
              "      <th>smt_finish_seconds</th>\n",
              "      <th>smt_name</th>\n",
              "      <th>user_weight_category</th>\n",
              "      <th>act_title</th>\n",
              "      <th>act_avg_spd</th>\n",
              "      <th>act_max_spd</th>\n",
              "      <th>act_total_km</th>\n",
              "      <th>act_moving_seconds</th>\n",
              "      <th>act_total_seconds</th>\n",
              "      <th>has_hr_data</th>\n",
              "    </tr>\n",
              "    <tr>\n",
              "      <th>user_age_group</th>\n",
              "      <th></th>\n",
              "      <th></th>\n",
              "      <th></th>\n",
              "      <th></th>\n",
              "      <th></th>\n",
              "      <th></th>\n",
              "      <th></th>\n",
              "      <th></th>\n",
              "      <th></th>\n",
              "      <th></th>\n",
              "      <th></th>\n",
              "      <th></th>\n",
              "      <th></th>\n",
              "      <th></th>\n",
              "      <th></th>\n",
              "    </tr>\n",
              "  </thead>\n",
              "  <tbody>\n",
              "    <tr>\n",
              "      <th>19 and under</th>\n",
              "      <td>370</td>\n",
              "      <td>370</td>\n",
              "      <td>370</td>\n",
              "      <td>370</td>\n",
              "      <td>370</td>\n",
              "      <td>370</td>\n",
              "      <td>370</td>\n",
              "      <td>349</td>\n",
              "      <td>370</td>\n",
              "      <td>370</td>\n",
              "      <td>370</td>\n",
              "      <td>370</td>\n",
              "      <td>370</td>\n",
              "      <td>370</td>\n",
              "      <td>370</td>\n",
              "    </tr>\n",
              "    <tr>\n",
              "      <th>20 to 24</th>\n",
              "      <td>705</td>\n",
              "      <td>705</td>\n",
              "      <td>705</td>\n",
              "      <td>705</td>\n",
              "      <td>705</td>\n",
              "      <td>705</td>\n",
              "      <td>705</td>\n",
              "      <td>676</td>\n",
              "      <td>705</td>\n",
              "      <td>705</td>\n",
              "      <td>705</td>\n",
              "      <td>705</td>\n",
              "      <td>705</td>\n",
              "      <td>705</td>\n",
              "      <td>705</td>\n",
              "    </tr>\n",
              "    <tr>\n",
              "      <th>25 to 34</th>\n",
              "      <td>3353</td>\n",
              "      <td>3353</td>\n",
              "      <td>3353</td>\n",
              "      <td>3353</td>\n",
              "      <td>3353</td>\n",
              "      <td>3353</td>\n",
              "      <td>3353</td>\n",
              "      <td>3173</td>\n",
              "      <td>3353</td>\n",
              "      <td>3353</td>\n",
              "      <td>3353</td>\n",
              "      <td>3353</td>\n",
              "      <td>3353</td>\n",
              "      <td>3353</td>\n",
              "      <td>3353</td>\n",
              "    </tr>\n",
              "    <tr>\n",
              "      <th>35 to 44</th>\n",
              "      <td>2323</td>\n",
              "      <td>2323</td>\n",
              "      <td>2323</td>\n",
              "      <td>2323</td>\n",
              "      <td>2323</td>\n",
              "      <td>2323</td>\n",
              "      <td>2323</td>\n",
              "      <td>2190</td>\n",
              "      <td>2323</td>\n",
              "      <td>2323</td>\n",
              "      <td>2323</td>\n",
              "      <td>2323</td>\n",
              "      <td>2323</td>\n",
              "      <td>2323</td>\n",
              "      <td>2323</td>\n",
              "    </tr>\n",
              "    <tr>\n",
              "      <th>45 to 54</th>\n",
              "      <td>880</td>\n",
              "      <td>880</td>\n",
              "      <td>880</td>\n",
              "      <td>880</td>\n",
              "      <td>880</td>\n",
              "      <td>880</td>\n",
              "      <td>880</td>\n",
              "      <td>823</td>\n",
              "      <td>880</td>\n",
              "      <td>880</td>\n",
              "      <td>880</td>\n",
              "      <td>880</td>\n",
              "      <td>880</td>\n",
              "      <td>880</td>\n",
              "      <td>880</td>\n",
              "    </tr>\n",
              "    <tr>\n",
              "      <th>55 to 64</th>\n",
              "      <td>192</td>\n",
              "      <td>192</td>\n",
              "      <td>192</td>\n",
              "      <td>192</td>\n",
              "      <td>192</td>\n",
              "      <td>192</td>\n",
              "      <td>192</td>\n",
              "      <td>177</td>\n",
              "      <td>192</td>\n",
              "      <td>192</td>\n",
              "      <td>192</td>\n",
              "      <td>192</td>\n",
              "      <td>192</td>\n",
              "      <td>192</td>\n",
              "      <td>192</td>\n",
              "    </tr>\n",
              "    <tr>\n",
              "      <th>65 to 69</th>\n",
              "      <td>21</td>\n",
              "      <td>21</td>\n",
              "      <td>21</td>\n",
              "      <td>21</td>\n",
              "      <td>21</td>\n",
              "      <td>21</td>\n",
              "      <td>21</td>\n",
              "      <td>21</td>\n",
              "      <td>21</td>\n",
              "      <td>21</td>\n",
              "      <td>21</td>\n",
              "      <td>21</td>\n",
              "      <td>21</td>\n",
              "      <td>21</td>\n",
              "      <td>21</td>\n",
              "    </tr>\n",
              "    <tr>\n",
              "      <th>70 to 74</th>\n",
              "      <td>3</td>\n",
              "      <td>3</td>\n",
              "      <td>3</td>\n",
              "      <td>3</td>\n",
              "      <td>3</td>\n",
              "      <td>3</td>\n",
              "      <td>3</td>\n",
              "      <td>3</td>\n",
              "      <td>3</td>\n",
              "      <td>3</td>\n",
              "      <td>3</td>\n",
              "      <td>3</td>\n",
              "      <td>3</td>\n",
              "      <td>3</td>\n",
              "      <td>3</td>\n",
              "    </tr>\n",
              "    <tr>\n",
              "      <th>75+</th>\n",
              "      <td>18</td>\n",
              "      <td>18</td>\n",
              "      <td>18</td>\n",
              "      <td>18</td>\n",
              "      <td>18</td>\n",
              "      <td>18</td>\n",
              "      <td>18</td>\n",
              "      <td>18</td>\n",
              "      <td>18</td>\n",
              "      <td>18</td>\n",
              "      <td>18</td>\n",
              "      <td>18</td>\n",
              "      <td>18</td>\n",
              "      <td>18</td>\n",
              "      <td>18</td>\n",
              "    </tr>\n",
              "  </tbody>\n",
              "</table>\n",
              "</div>"
            ],
            "text/plain": [
              "                user_id  attempt_date  ...  act_total_seconds  has_hr_data\n",
              "user_age_group                         ...                                \n",
              "19 and under        370           370  ...                370          370\n",
              "20 to 24            705           705  ...                705          705\n",
              "25 to 34           3353          3353  ...               3353         3353\n",
              "35 to 44           2323          2323  ...               2323         2323\n",
              "45 to 54            880           880  ...                880          880\n",
              "55 to 64            192           192  ...                192          192\n",
              "65 to 69             21            21  ...                 21           21\n",
              "70 to 74              3             3  ...                  3            3\n",
              "75+                  18            18  ...                 18           18\n",
              "\n",
              "[9 rows x 15 columns]"
            ]
          },
          "metadata": {
            "tags": []
          },
          "execution_count": 7
        }
      ]
    },
    {
      "cell_type": "markdown",
      "metadata": {
        "id": "QoMOXlUTvcs2"
      },
      "source": [
        "We can observe that the row counts have been computed for each category."
      ]
    },
    {
      "cell_type": "markdown",
      "metadata": {
        "id": "Gm2nzef4vcs2"
      },
      "source": [
        "#### Question 1 ( 3 points )\n",
        "\n",
        "##### Which named segment has the least number of user activity entries?\n",
        "\n",
        "Named segments are the named path segments for the cycling/activity routes.\n",
        "<br> Identify the column that contains this information\n",
        "<br> Use this column to find out the number (count) of user activity entries (rows) for each named segment. \n",
        "<br> From these counts, find out which named segment has the least count."
      ]
    },
    {
      "cell_type": "code",
      "metadata": {
        "colab": {
          "base_uri": "https://localhost:8080/"
        },
        "id": "RHb92TSMvcs2",
        "outputId": "a0fcbfb9-caf1-45ec-dff4-65c0b6c8c90c"
      },
      "source": [
        "## You can use this cell for Question 1\n",
        "## YOUR CODE HERE:\n",
        "\n",
        "least_path = df['smt_name'].value_counts().idxmin()\n",
        "\n",
        "#Test\n",
        "print(least_path)"
      ],
      "execution_count": 8,
      "outputs": [
        {
          "output_type": "stream",
          "text": [
            "Al Fardoos to shellfish round about\n"
          ],
          "name": "stdout"
        }
      ]
    },
    {
      "cell_type": "markdown",
      "metadata": {
        "id": "TbEUjVFgvcs2"
      },
      "source": [
        "#### Question 2 ( 3 points )\n",
        "\n",
        "##### Which user weight category has the most number of user activity entries?\n",
        "<br> Similar to Q.1"
      ]
    },
    {
      "cell_type": "code",
      "metadata": {
        "colab": {
          "base_uri": "https://localhost:8080/"
        },
        "id": "2F13ja0svcs3",
        "outputId": "42af88df-271d-4abb-d413-e7950f26910d"
      },
      "source": [
        "## You can use this cell for Question 2\n",
        "## YOUR CODE HERE:\n",
        "\n",
        "most_weight = df['user_weight_category'].value_counts().idxmax()\n",
        "\n",
        "#Test\n",
        "print(most_weight)"
      ],
      "execution_count": 9,
      "outputs": [
        {
          "output_type": "stream",
          "text": [
            "54 kg and under\n"
          ],
          "name": "stdout"
        }
      ]
    },
    {
      "cell_type": "markdown",
      "metadata": {
        "id": "T18_lfXdvcs3"
      },
      "source": [
        "#### Question 3 ( 3 points )\n",
        "\n",
        "##### Which numerical feature has the highest magnitude of correlation with 'smt_rank' ?\n",
        "'smt_rank' refers to the participant's rank in the leaderboard\n",
        "\n",
        "The correlation of a variable with itself is always 1. <br>\n",
        "We are looking for a numerical feature other than 'smt_rank' itself. \n",
        "<br> For this question, the correlation matrix is provided to you as a dataframe."
      ]
    },
    {
      "cell_type": "code",
      "metadata": {
        "colab": {
          "base_uri": "https://localhost:8080/",
          "height": 379
        },
        "id": "qVu8NaJtvcs3",
        "outputId": "425a1f4f-9d5d-4c44-a00f-5e97d5c02307"
      },
      "source": [
        "#Standard correlation for the numerical features in this dataframe.\n",
        "\n",
        "df_corr = df.select_dtypes(['number']).corr(method='pearson')\n",
        "df_corr "
      ],
      "execution_count": 10,
      "outputs": [
        {
          "output_type": "execute_result",
          "data": {
            "text/html": [
              "<div>\n",
              "<style scoped>\n",
              "    .dataframe tbody tr th:only-of-type {\n",
              "        vertical-align: middle;\n",
              "    }\n",
              "\n",
              "    .dataframe tbody tr th {\n",
              "        vertical-align: top;\n",
              "    }\n",
              "\n",
              "    .dataframe thead th {\n",
              "        text-align: right;\n",
              "    }\n",
              "</style>\n",
              "<table border=\"1\" class=\"dataframe\">\n",
              "  <thead>\n",
              "    <tr style=\"text-align: right;\">\n",
              "      <th></th>\n",
              "      <th>user_id</th>\n",
              "      <th>smt_rank</th>\n",
              "      <th>smt_avg_spd</th>\n",
              "      <th>smt_finish_seconds</th>\n",
              "      <th>act_avg_spd</th>\n",
              "      <th>act_max_spd</th>\n",
              "      <th>act_total_km</th>\n",
              "      <th>act_moving_seconds</th>\n",
              "      <th>act_total_seconds</th>\n",
              "      <th>has_hr_data</th>\n",
              "    </tr>\n",
              "  </thead>\n",
              "  <tbody>\n",
              "    <tr>\n",
              "      <th>user_id</th>\n",
              "      <td>1.000000</td>\n",
              "      <td>0.273225</td>\n",
              "      <td>-0.353661</td>\n",
              "      <td>-0.014593</td>\n",
              "      <td>-0.371738</td>\n",
              "      <td>-0.125751</td>\n",
              "      <td>-0.214994</td>\n",
              "      <td>0.008099</td>\n",
              "      <td>0.008099</td>\n",
              "      <td>-0.091608</td>\n",
              "    </tr>\n",
              "    <tr>\n",
              "      <th>smt_rank</th>\n",
              "      <td>0.273225</td>\n",
              "      <td>1.000000</td>\n",
              "      <td>-0.546382</td>\n",
              "      <td>0.000682</td>\n",
              "      <td>-0.494412</td>\n",
              "      <td>-0.136210</td>\n",
              "      <td>-0.285394</td>\n",
              "      <td>0.017735</td>\n",
              "      <td>0.017735</td>\n",
              "      <td>-0.220207</td>\n",
              "    </tr>\n",
              "    <tr>\n",
              "      <th>smt_avg_spd</th>\n",
              "      <td>-0.353661</td>\n",
              "      <td>-0.546382</td>\n",
              "      <td>1.000000</td>\n",
              "      <td>-0.416118</td>\n",
              "      <td>0.682442</td>\n",
              "      <td>0.236309</td>\n",
              "      <td>0.227294</td>\n",
              "      <td>-0.025865</td>\n",
              "      <td>-0.025865</td>\n",
              "      <td>0.280936</td>\n",
              "    </tr>\n",
              "    <tr>\n",
              "      <th>smt_finish_seconds</th>\n",
              "      <td>-0.014593</td>\n",
              "      <td>0.000682</td>\n",
              "      <td>-0.416118</td>\n",
              "      <td>1.000000</td>\n",
              "      <td>-0.134065</td>\n",
              "      <td>-0.007358</td>\n",
              "      <td>0.178490</td>\n",
              "      <td>0.012026</td>\n",
              "      <td>0.012026</td>\n",
              "      <td>-0.029537</td>\n",
              "    </tr>\n",
              "    <tr>\n",
              "      <th>act_avg_spd</th>\n",
              "      <td>-0.371738</td>\n",
              "      <td>-0.494412</td>\n",
              "      <td>0.682442</td>\n",
              "      <td>-0.134065</td>\n",
              "      <td>1.000000</td>\n",
              "      <td>0.281023</td>\n",
              "      <td>0.329393</td>\n",
              "      <td>-0.106255</td>\n",
              "      <td>-0.106255</td>\n",
              "      <td>0.387707</td>\n",
              "    </tr>\n",
              "    <tr>\n",
              "      <th>act_max_spd</th>\n",
              "      <td>-0.125751</td>\n",
              "      <td>-0.136210</td>\n",
              "      <td>0.236309</td>\n",
              "      <td>-0.007358</td>\n",
              "      <td>0.281023</td>\n",
              "      <td>1.000000</td>\n",
              "      <td>0.257303</td>\n",
              "      <td>0.053858</td>\n",
              "      <td>0.053858</td>\n",
              "      <td>0.005203</td>\n",
              "    </tr>\n",
              "    <tr>\n",
              "      <th>act_total_km</th>\n",
              "      <td>-0.214994</td>\n",
              "      <td>-0.285394</td>\n",
              "      <td>0.227294</td>\n",
              "      <td>0.178490</td>\n",
              "      <td>0.329393</td>\n",
              "      <td>0.257303</td>\n",
              "      <td>1.000000</td>\n",
              "      <td>0.036902</td>\n",
              "      <td>0.036902</td>\n",
              "      <td>0.176928</td>\n",
              "    </tr>\n",
              "    <tr>\n",
              "      <th>act_moving_seconds</th>\n",
              "      <td>0.008099</td>\n",
              "      <td>0.017735</td>\n",
              "      <td>-0.025865</td>\n",
              "      <td>0.012026</td>\n",
              "      <td>-0.106255</td>\n",
              "      <td>0.053858</td>\n",
              "      <td>0.036902</td>\n",
              "      <td>1.000000</td>\n",
              "      <td>1.000000</td>\n",
              "      <td>-0.013010</td>\n",
              "    </tr>\n",
              "    <tr>\n",
              "      <th>act_total_seconds</th>\n",
              "      <td>0.008099</td>\n",
              "      <td>0.017735</td>\n",
              "      <td>-0.025865</td>\n",
              "      <td>0.012026</td>\n",
              "      <td>-0.106255</td>\n",
              "      <td>0.053858</td>\n",
              "      <td>0.036902</td>\n",
              "      <td>1.000000</td>\n",
              "      <td>1.000000</td>\n",
              "      <td>-0.013010</td>\n",
              "    </tr>\n",
              "    <tr>\n",
              "      <th>has_hr_data</th>\n",
              "      <td>-0.091608</td>\n",
              "      <td>-0.220207</td>\n",
              "      <td>0.280936</td>\n",
              "      <td>-0.029537</td>\n",
              "      <td>0.387707</td>\n",
              "      <td>0.005203</td>\n",
              "      <td>0.176928</td>\n",
              "      <td>-0.013010</td>\n",
              "      <td>-0.013010</td>\n",
              "      <td>1.000000</td>\n",
              "    </tr>\n",
              "  </tbody>\n",
              "</table>\n",
              "</div>"
            ],
            "text/plain": [
              "                     user_id  smt_rank  ...  act_total_seconds  has_hr_data\n",
              "user_id             1.000000  0.273225  ...           0.008099    -0.091608\n",
              "smt_rank            0.273225  1.000000  ...           0.017735    -0.220207\n",
              "smt_avg_spd        -0.353661 -0.546382  ...          -0.025865     0.280936\n",
              "smt_finish_seconds -0.014593  0.000682  ...           0.012026    -0.029537\n",
              "act_avg_spd        -0.371738 -0.494412  ...          -0.106255     0.387707\n",
              "act_max_spd        -0.125751 -0.136210  ...           0.053858     0.005203\n",
              "act_total_km       -0.214994 -0.285394  ...           0.036902     0.176928\n",
              "act_moving_seconds  0.008099  0.017735  ...           1.000000    -0.013010\n",
              "act_total_seconds   0.008099  0.017735  ...           1.000000    -0.013010\n",
              "has_hr_data        -0.091608 -0.220207  ...          -0.013010     1.000000\n",
              "\n",
              "[10 rows x 10 columns]"
            ]
          },
          "metadata": {
            "tags": []
          },
          "execution_count": 10
        }
      ]
    },
    {
      "cell_type": "code",
      "metadata": {
        "colab": {
          "base_uri": "https://localhost:8080/"
        },
        "id": "w7eKmTIlvcs3",
        "outputId": "25825472-3ad7-45a6-d666-2447e61c4582"
      },
      "source": [
        "## You can use this cell for Question 3\n",
        "## YOUR CODE HERE:\n",
        "correlation_sorting = df_corr['smt_rank'].abs().sort_values(ascending = False)\n",
        "\n",
        "best_name = correlation_sorting.index[1]\n",
        "best_value = correlation_sorting[1]\n",
        "\n",
        "#Test\n",
        "print(best_name, best_value)"
      ],
      "execution_count": 11,
      "outputs": [
        {
          "output_type": "stream",
          "text": [
            "smt_avg_spd 0.5463821107460634\n"
          ],
          "name": "stdout"
        }
      ]
    },
    {
      "cell_type": "markdown",
      "metadata": {
        "id": "BOInrZFFvcs3"
      },
      "source": [
        "#### Question 4 ( 5 points)\n",
        "\n",
        "The unique identifiers ( values with frequency = 1 ) present in the columns/features of this dataset can be used to deterministically identify a user segment entry or a user ID. <br>The unique identifiers can result in de-anonymization of the data entry or the user. \n",
        "\n",
        "##### Among the 16 features/columns of this dataset, which feature(s) have the highest number of unique identifiers associated with the row (user entry) ?\n",
        "##### How many unique identifiers do these column(s) have?\n",
        "\n",
        "To find the number of unique identifiers,\n",
        "<br> For each column,\n",
        "<br> We identify the values that have frequency (row-count) = 1\n",
        "<br> These are the unique identifiers present in that column\n",
        "<br> Count these unique identifiers for each column. \n",
        "<br> If this is done, For each column, we have the number of unique identifiers.\n",
        "<br> The column(s) with the highest number of unique identifiers can now be determined.\n",
        " \n"
      ]
    },
    {
      "cell_type": "code",
      "metadata": {
        "colab": {
          "base_uri": "https://localhost:8080/"
        },
        "id": "gNrPtzp7vcs4",
        "outputId": "225202b9-db80-475f-b754-0ae82de4fed8"
      },
      "source": [
        "## You can use this cell for Question 4\n",
        "## YOUR CODE HERE:\n",
        "\n",
        "df.nunique().sort_values(ascending=False)   "
      ],
      "execution_count": 12,
      "outputs": [
        {
          "output_type": "execute_result",
          "data": {
            "text/plain": [
              "act_total_seconds       4275\n",
              "act_moving_seconds      4275\n",
              "act_total_km            3805\n",
              "user_id                 2254\n",
              "attempt_date            1528\n",
              "smt_finish_seconds      1301\n",
              "act_title               1213\n",
              "smt_rank                 735\n",
              "smt_avg_spd              475\n",
              "act_avg_spd              338\n",
              "act_max_spd              283\n",
              "smt_name                   9\n",
              "user_age_group             9\n",
              "user_weight_category       8\n",
              "has_hr_data                2\n",
              "gender                     2\n",
              "dtype: int64"
            ]
          },
          "metadata": {
            "tags": []
          },
          "execution_count": 12
        }
      ]
    },
    {
      "cell_type": "markdown",
      "metadata": {
        "id": "pLNdQGYBvcs4"
      },
      "source": [
        "#### Question 5 ( 3 points )\n",
        "\n",
        "Binning or discretization can reduce the risk of de-anonymization in a dataset. \n",
        "\n",
        "##### If the 'act_moving_seconds' is replaced with the nearest integer-valued minute, <br> what is the modified number of unique identifiers present in this column? \n",
        "Steps:\n",
        "- replace 'act_moving_seconds' with the nearest integer-valued minute.\n",
        "- find the new/modified number of unique identifiers for this column ( same steps as Q.4 )\n",
        "\n",
        "<br> To replace the values in a column, take a look at this following example:"
      ]
    },
    {
      "cell_type": "code",
      "metadata": {
        "colab": {
          "base_uri": "https://localhost:8080/"
        },
        "id": "JO8jpsFDvcs4",
        "outputId": "8084bc21-f7ac-46b2-e2ff-608aa23d5eb6"
      },
      "source": [
        "## Example for replacing values in a column\n",
        "## In this example, we are replacing the user_ID with 42 x user_ID\n",
        "\n",
        "## We don't want to disturb the original dataframe.\n",
        "df_example = df.copy()\n",
        "\n",
        "print(df_example.filter(['user_id']).head(5))\n",
        "print(\"\\n \\n Example: replacing the user_ID with 10 x user_ID  \\n \\n\")\n",
        "\n",
        "## Pay attention to this: \n",
        "df_example['user_id'] = df_example.apply (lambda row: row['user_id']*42 , axis=1)\n",
        "\n",
        "print(df_example.filter(['user_id']).head(5))"
      ],
      "execution_count": 24,
      "outputs": [
        {
          "output_type": "stream",
          "text": [
            "   user_id\n",
            "0        1\n",
            "1        2\n",
            "2        3\n",
            "3        4\n",
            "4        5\n",
            "\n",
            " \n",
            " Example: replacing the user_ID with 10 x user_ID  \n",
            " \n",
            "\n",
            "   user_id\n",
            "0       42\n",
            "1       84\n",
            "2      126\n",
            "3      168\n",
            "4      210\n"
          ],
          "name": "stdout"
        }
      ]
    },
    {
      "cell_type": "code",
      "metadata": {
        "colab": {
          "base_uri": "https://localhost:8080/"
        },
        "id": "3o5QCdHkvcs4",
        "outputId": "9cb22e8a-7f96-4b3b-8e08-5c8417662eb4"
      },
      "source": [
        "## You can use this cell for Question 5\n",
        "## YOUR CODE HERE:\n",
        "df_unique = df.copy()\n",
        "df_unique['act_total_seconds'] /= 60\n",
        "df_unique['act_total_seconds'] = df_unique['act_total_seconds'].astype(int)\n",
        "\n",
        "newUniqueNumber = df_unique.nunique().sort_values(ascending=False)\n",
        "newMinutesAct = newUniqueNumber['act_total_seconds']\n",
        "\n",
        "#Test\n",
        "print('act_total_minutes', newMinutesAct)\n",
        "\n",
        "#From Optional OH on Sunday\n",
        "# df_example['act_moving_seconds'] = df_example.apply(lambda row: int(row['act_moving_seconds']/60), axis = 1)\n",
        "# print(df_example.filter(['act_moving_seconds']))\n",
        "\n",
        "# df_act = df_example.columns\n",
        "\n",
        "# for e in df_act:\n",
        "#   unique_ID = df_example.groupby(e).count()\n",
        "#   unique_ID = unique_ID.loc[unique_ID.iloc[:,0] ==1]\n",
        "#   count = unique_ID.shape[0]\n",
        "#   print(e, count)\n"
      ],
      "execution_count": 27,
      "outputs": [
        {
          "output_type": "stream",
          "text": [
            "act_total_minutes 363\n"
          ],
          "name": "stdout"
        }
      ]
    },
    {
      "cell_type": "markdown",
      "metadata": {
        "id": "PYXu1vCyvcs4"
      },
      "source": [
        "You will notice that for this column ( 'act_moving_seconds' ), the modified number of unique identifiers is significantly lower than the number of unique identifiers before modification."
      ]
    },
    {
      "cell_type": "markdown",
      "metadata": {
        "id": "V-0tCRRLvcs4"
      },
      "source": [
        "#### Question 6 ( 4 points )\n",
        "\n",
        "Consider the information present in these 3 columns : <br>'user_id', 'user_age_group' and 'gender'\n"
      ]
    },
    {
      "cell_type": "code",
      "metadata": {
        "colab": {
          "base_uri": "https://localhost:8080/",
          "height": 359
        },
        "id": "2c_CXOVuvcs5",
        "outputId": "dc3ab0a6-e78d-4236-9318-45c89215e65d"
      },
      "source": [
        "df6 = df.filter(['user_id','user_age_group','gender'])\n",
        "df6.head(10)"
      ],
      "execution_count": 15,
      "outputs": [
        {
          "output_type": "execute_result",
          "data": {
            "text/html": [
              "<div>\n",
              "<style scoped>\n",
              "    .dataframe tbody tr th:only-of-type {\n",
              "        vertical-align: middle;\n",
              "    }\n",
              "\n",
              "    .dataframe tbody tr th {\n",
              "        vertical-align: top;\n",
              "    }\n",
              "\n",
              "    .dataframe thead th {\n",
              "        text-align: right;\n",
              "    }\n",
              "</style>\n",
              "<table border=\"1\" class=\"dataframe\">\n",
              "  <thead>\n",
              "    <tr style=\"text-align: right;\">\n",
              "      <th></th>\n",
              "      <th>user_id</th>\n",
              "      <th>user_age_group</th>\n",
              "      <th>gender</th>\n",
              "    </tr>\n",
              "  </thead>\n",
              "  <tbody>\n",
              "    <tr>\n",
              "      <th>0</th>\n",
              "      <td>1</td>\n",
              "      <td>19 and under</td>\n",
              "      <td>male</td>\n",
              "    </tr>\n",
              "    <tr>\n",
              "      <th>1</th>\n",
              "      <td>2</td>\n",
              "      <td>19 and under</td>\n",
              "      <td>male</td>\n",
              "    </tr>\n",
              "    <tr>\n",
              "      <th>2</th>\n",
              "      <td>3</td>\n",
              "      <td>19 and under</td>\n",
              "      <td>male</td>\n",
              "    </tr>\n",
              "    <tr>\n",
              "      <th>3</th>\n",
              "      <td>4</td>\n",
              "      <td>19 and under</td>\n",
              "      <td>male</td>\n",
              "    </tr>\n",
              "    <tr>\n",
              "      <th>4</th>\n",
              "      <td>5</td>\n",
              "      <td>19 and under</td>\n",
              "      <td>male</td>\n",
              "    </tr>\n",
              "    <tr>\n",
              "      <th>5</th>\n",
              "      <td>6</td>\n",
              "      <td>19 and under</td>\n",
              "      <td>male</td>\n",
              "    </tr>\n",
              "    <tr>\n",
              "      <th>6</th>\n",
              "      <td>7</td>\n",
              "      <td>19 and under</td>\n",
              "      <td>male</td>\n",
              "    </tr>\n",
              "    <tr>\n",
              "      <th>7</th>\n",
              "      <td>8</td>\n",
              "      <td>19 and under</td>\n",
              "      <td>male</td>\n",
              "    </tr>\n",
              "    <tr>\n",
              "      <th>8</th>\n",
              "      <td>9</td>\n",
              "      <td>19 and under</td>\n",
              "      <td>male</td>\n",
              "    </tr>\n",
              "    <tr>\n",
              "      <th>9</th>\n",
              "      <td>10</td>\n",
              "      <td>19 and under</td>\n",
              "      <td>male</td>\n",
              "    </tr>\n",
              "  </tbody>\n",
              "</table>\n",
              "</div>"
            ],
            "text/plain": [
              "   user_id user_age_group gender\n",
              "0        1   19 and under   male\n",
              "1        2   19 and under   male\n",
              "2        3   19 and under   male\n",
              "3        4   19 and under   male\n",
              "4        5   19 and under   male\n",
              "5        6   19 and under   male\n",
              "6        7   19 and under   male\n",
              "7        8   19 and under   male\n",
              "8        9   19 and under   male\n",
              "9       10   19 and under   male"
            ]
          },
          "metadata": {
            "tags": []
          },
          "execution_count": 15
        }
      ]
    },
    {
      "cell_type": "markdown",
      "metadata": {
        "id": "Z9aPTLCFvcs5"
      },
      "source": [
        "Given only this data subset, among the different 'gender'-'user-age-group' pairings in this subset,\n",
        "\n",
        "#####  Which pairing poses the highest risk of de-anonymization for the associated users and their 'user_id'?\n",
        "##### Which pairing poses the least risk?\n",
        "\n",
        "Pairing: refers to all the possible 'gender'-'user-age-group' pairs in this dataset. \n",
        "<br> Hint: Pandas grouping can be done using more than 1 column. <br>\n",
        "<br> Risk: For this specific question, building from (Q.4), risk refers to the amount of data that can be de-anonymized using unique identifiers. <br>\n",
        "<br> If a pairing has more unique identifiers, the users associated with that pairing have higher risk of being de-anonymized."
      ]
    },
    {
      "cell_type": "code",
      "metadata": {
        "colab": {
          "base_uri": "https://localhost:8080/"
        },
        "id": "Fk3aZ67Xvcs5",
        "outputId": "d9e4e113-a8a3-49ae-a471-60423c81fc41"
      },
      "source": [
        "## You can use this cell for Question 6\n",
        "## YOUR CODE HERE:\n",
        "\n",
        "gender_age = df6.groupby(['gender','user_age_group']).count()\n",
        "highly_likely_risk = gender_age['user_id'].idxmin()\n",
        "less_likely_risk = gender_age['user_id'].idxmax()\n",
        "\n",
        "#Test\n",
        "print('The group that most likely to Risk = ', highly_likely_risk)\n",
        "print('The group that least likely to Risk = ', less_likely_risk)\n"
      ],
      "execution_count": 16,
      "outputs": [
        {
          "output_type": "stream",
          "text": [
            "The group that most likely to Risk =  ('female', '65 to 69')\n",
            "The group that least likely to Risk =  ('male', '25 to 34')\n"
          ],
          "name": "stdout"
        }
      ]
    },
    {
      "cell_type": "markdown",
      "metadata": {
        "id": "3nkiABbEvcs5"
      },
      "source": [
        "#### Question 7 ( 4 points )\n",
        "\n",
        "For the dataframe ( 'df6' containing 3 features )  in Question 6, \n",
        "\n",
        "\n",
        "##### Recommend a method to ensure that all the users associated with the different 'gender'-'user-age-group' pairings are equally protected. \n",
        "( expected: 2-3 sentences ) \n",
        "\n",
        "##### Does your recommendation contribute to any additional risk of de-anonymization?   \n",
        "( expected: 2-3 sentences)\n",
        "\n",
        "<br> Hint: Observing the counts of unique identifiers associated with the pairings (Q.6) can be helpful. \n",
        "\n",
        "Enter your answer in the 'Submitted answers' cell.\n",
        "\n",
        "***\n",
        "\n",
        "( Double click the cell below to edit it )\n",
        "\n",
        "***"
      ]
    },
    {
      "cell_type": "markdown",
      "metadata": {
        "id": "zTQXE3Gtvcs5"
      },
      "source": [
        "# Submitted answers:\n",
        "\n",
        "\n",
        "* Q.1 : [3] Least number of user activity entries - <b>Al Fardoos to shellfish round about</b>\n",
        "\n",
        "\n",
        "* Q.2 : [3] Weight category with most entries - <b>54 kg and under</b>\n",
        "\n",
        "\n",
        "* Q.3 : [3] Feature with highest magnitude of correlation - <b>smt_avg_spd 0.5463821107460634</b>\n",
        "\n",
        "\n",
        "* Q.4 : \n",
        "   * (a) [3] Column names -  <b>\n",
        "\n",
        "   act_total_seconds\n",
        "   \n",
        "   act_moving_seconds      \n",
        "   act_total_km            \n",
        "   user_id                 \n",
        "   attempt_date            \n",
        "   smt_finish_seconds      \n",
        "act_title               \n",
        "smt_rank                 \n",
        "smt_avg_spd              \n",
        "act_avg_spd              \n",
        "act_max_spd              \n",
        "smt_name                  \n",
        "user_age_group             \n",
        "user_weight_category       \n",
        "has_hr_data                \n",
        "gender                     </b>\n",
        "\n",
        "   * (b) [2] No. of unique identifiers - <b>       4275,\n",
        "     4275,\n",
        "     3805,              2254,\n",
        "     1528,\n",
        "      1301,\n",
        "      1213,\n",
        "      735,\n",
        "   475,       338,\n",
        "   283,         9,          9,   8,  2,        2</b>\n",
        "\n",
        "\n",
        "* Q.5 [3] : Modified number of unique identifiers - <b>aact_total_minutes 363</b>\n",
        "\n",
        "\n",
        "* Q.6 : \n",
        "   * (a) [2] Pairing with highest risk -  <b>'female', '65 to 69'</b>\n",
        "\n",
        "   * (b) [2] Pairing with lowest risk - <b>'male', '25 to 34'</b>\n",
        "\n",
        "\n",
        "* Q.7 :\n",
        "   * (a) [2] Recommendation -  <b> One method can help to ensure that all the users associated with the different 'gender' and 'user_age_group' is implementing the redistribution of the age grouping. By implementing this method, we can see the majority of the user within the dataset would fall in the age group of 25 to 44 age range. By breaking the group into smaller age group, it easier to analyst the group more efficiently.</b>\n",
        "\n",
        "   * (b) [2] Additional risk - <b>he recommendation would creates additional risk by having too many granual information for the dateset. By having a large group of indivuals in 25 to 44 age range, it would protect them from being identify. Though if we create and break the group down, individuals within the rnage would have a higher risk of being identified.</b>\n"
      ]
    }
  ]
}