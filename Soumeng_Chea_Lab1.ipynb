{
  "nbformat": 4,
  "nbformat_minor": 0,
  "metadata": {
    "kernelspec": {
      "display_name": "Python 3",
      "language": "python",
      "name": "python3"
    },
    "language_info": {
      "codemirror_mode": {
        "name": "ipython",
        "version": 3
      },
      "file_extension": ".py",
      "mimetype": "text/x-python",
      "name": "python",
      "nbconvert_exporter": "python",
      "pygments_lexer": "ipython3",
      "version": "3.8.5"
    },
    "colab": {
      "name": "Soumeng-Chea-Lab1.ipynb",
      "provenance": [],
      "collapsed_sections": []
    }
  },
  "cells": [
    {
      "cell_type": "markdown",
      "metadata": {
        "id": "1pMlG8sOrhaV"
      },
      "source": [
        "# Lab 1: CS 6760\n",
        "\n",
        "## Introduction to Privacy Engineering, Summer 2021\n",
        "\n",
        "## Python review and data processing\n",
        "\n",
        "\n",
        "##### This lab consists of the following sections:\n",
        "- Part 1: Python review ( Optional - 0 points )\n",
        "- Part 2: Python exercises ( 15 points )\n",
        "- Part 3: Pandas: data processing ( 10 points )\n",
        "\n",
        "##### Grading rubric: for each subquestion \n",
        "100% of the points - Correct code, correct output<br>\n",
        "50% of the points - Minor logical error, partial output<br>\n",
        "0% of the points - No attempt, incomplete code, wrong output\n",
        "\n",
        "##### Submission instructions\n",
        "\n",
        "You will have to submit the completed jupyter notebook file (.ipynb) in Canvas.\n",
        "\n",
        "\n",
        "Adapted from the tutorial given by the [The Pacman Projects](https://courses.cs.washington.edu/courses/cse473/13au/pacman/intro/tutorial.html)\n",
        "\n",
        "***\n",
        "\n",
        "## Part 1: Python review ( 0 points )\n",
        "\n",
        "This section is optional <br>\n",
        "Proceed to Part 2 if you are familiar with Python <br>\n",
        "Additional resource: www.python.org\n",
        "\n",
        "#### Operators\n",
        "\n"
      ]
    },
    {
      "cell_type": "code",
      "metadata": {
        "colab": {
          "base_uri": "https://localhost:8080/"
        },
        "id": "MKATDMczrhaW",
        "outputId": "989dc62a-9dc6-46a0-c420-7222e11ca150"
      },
      "source": [
        "# Examples for simple arithmetic and Boolean expressions\n",
        "\n",
        "print(\"3 + 4 = \", 3 + 4)\n",
        "print(\"(-3) * 4 = \", (-3) * 4)\n",
        "print(\"1==0 \", 1==0)\n",
        "print(\"not (1==0) \", not(1==0))\n",
        "print(\"(2==2) and (2==3) \", (2==2) and (2==3))\n",
        "print(\"(2==2) or (2==3) \", (2==2) or (2==3))"
      ],
      "execution_count": null,
      "outputs": [
        {
          "output_type": "stream",
          "text": [
            "3 + 4 =  7\n",
            "(-3) * 4 =  -12\n",
            "1==0  False\n",
            "not (1==0)  True\n",
            "(2==2) and (2==3)  False\n",
            "(2==2) or (2==3)  True\n"
          ],
          "name": "stdout"
        }
      ]
    },
    {
      "cell_type": "markdown",
      "metadata": {
        "id": "GR6GIcdSrhaX"
      },
      "source": [
        "#### String operations\n",
        "\n",
        "Notice that we can use either single quotes ' ' or double quotes \" \" to surround a string. <br>\n",
        "This allows for easy nesting of strings."
      ]
    },
    {
      "cell_type": "code",
      "metadata": {
        "id": "prRL1LFOrhaX"
      },
      "source": [
        "# String operations\n",
        "# The + operator is overloaded to do string concatenation on string values.\n",
        "\n",
        "print('artificial' + \"intelligence\")\n",
        "var = 'artificial' + \"intelligence\"\n",
        "print(\"Lowercase: \", var.lower())\n",
        "print(\"Uppercase:\", var.upper())\n",
        "print(\"Characters: \", list(var))\n",
        "print(\"Length of the string is \", len(var))"
      ],
      "execution_count": null,
      "outputs": []
    },
    {
      "cell_type": "code",
      "metadata": {
        "id": "1b12hdXnrhaX"
      },
      "source": [
        "# To see what methods Python provides for a datatype, use the dir and help commands\n",
        "\n",
        "text = \"Ravenclaw\"\n",
        "dir(text)"
      ],
      "execution_count": null,
      "outputs": []
    },
    {
      "cell_type": "code",
      "metadata": {
        "id": "ZyRI2HYNrhaY"
      },
      "source": [
        "text = \"Ravenclaw\"\n",
        "help(text.find)"
      ],
      "execution_count": null,
      "outputs": []
    },
    {
      "cell_type": "markdown",
      "metadata": {
        "id": "jLTrAelNrhaY"
      },
      "source": [
        "#### Built-in data structures\n",
        "\n",
        "##### Lists\n",
        "Lists store a sequence of mutable items"
      ]
    },
    {
      "cell_type": "code",
      "metadata": {
        "id": "JgEpABp1rhaZ"
      },
      "source": [
        "# List example\n",
        "\n",
        "fruits = ['apple','orange','pear','banana']\n",
        "print(\"Sample list: \", fruits )\n",
        "\n",
        "# Python uses 0-indexing\n",
        "print(\"First element: \", fruits[0])\n",
        "\n",
        "# Python also allows negative-indexing from the back of the list\n",
        "print(\"Last element: \", fruits[-1])\n",
        "\n",
        "# List concatenation\n",
        "otherFruits = ['kiwi','strawberry']\n",
        "fruits += otherFruits\n",
        "print(\"Concatenated list: \", fruits)\n",
        "\n",
        "#List slicing\n",
        "print(\"\\nfruits[0:2]: \", fruits[0:2])\n",
        "print(\"fruits[:3]: \", fruits[:3])\n",
        "\n",
        "# Pop operator\n",
        "print(\"Pop: \", fruits.pop())\n",
        "\n",
        "# Reverse operator\n",
        "# Note: this is an in-place operation\n",
        "fruits.reverse()\n",
        "print(\"Reversed list \", fruits)"
      ],
      "execution_count": null,
      "outputs": []
    },
    {
      "cell_type": "markdown",
      "metadata": {
        "id": "-Tboai2TrhaZ"
      },
      "source": [
        "##### Tuples\n",
        "A data structure similar to the list is the tuple, which is like a list except that it is immutable once it is created (i.e. you cannot change its content once created). Note that tuples are surrounded with parentheses while lists have square brackets"
      ]
    },
    {
      "cell_type": "code",
      "metadata": {
        "id": "WaACo_YTrhaZ"
      },
      "source": [
        "# Tuple example\n",
        "\n",
        "pair = (\"Grade\",4.0)\n",
        "\n",
        "print(\"pair[0]: \", pair[0])\n",
        "print(\"pair[1]: \", pair[1])\n",
        "\n",
        "# Modification attempt\n",
        "# This will fail as this is an immutable data structure\n",
        "# A TypeError will be generated\n",
        "\n",
        "pair[1] = 5.0"
      ],
      "execution_count": null,
      "outputs": []
    },
    {
      "cell_type": "markdown",
      "metadata": {
        "id": "MLFMXp-7rhaZ"
      },
      "source": [
        "##### Sets\n",
        "A set is another data structure that serves as an unordered list with no duplicate items"
      ]
    },
    {
      "cell_type": "code",
      "metadata": {
        "id": "TmNZpqjZrhaa"
      },
      "source": [
        "# Set example\n",
        "\n",
        "shapes = ['circle','square','triangle','circle']\n",
        "setOfShapes = set(shapes)\n",
        "print(setOfShapes)\n",
        "\n",
        "setOfShapes.add('polygon')\n",
        "print(setOfShapes)"
      ],
      "execution_count": null,
      "outputs": []
    },
    {
      "cell_type": "markdown",
      "metadata": {
        "id": "E_E8xUI7rhaa"
      },
      "source": [
        "##### Dictionaries\n",
        "\n",
        "A dictionary stores a map from one type of object (the key) to another (the value). The key must be an immutable type (string, number, or tuple). The value can be any Python data type."
      ]
    },
    {
      "cell_type": "code",
      "metadata": {
        "id": "63AQ6h4trhaa"
      },
      "source": [
        "# Dictionary example\n",
        "\n",
        "studentIds = {'knuth': 42.0, 'turing': 56.0, 'nash': 92.0 }\n",
        "print(\"Dictionary: \", studentIds)\n",
        "print(studentIds.keys())\n",
        "print(studentIds.values())"
      ],
      "execution_count": null,
      "outputs": []
    },
    {
      "cell_type": "markdown",
      "metadata": {
        "id": "qG5JJZpTrhaa"
      },
      "source": [
        "#### Indentation"
      ]
    },
    {
      "cell_type": "code",
      "metadata": {
        "id": "6zXFzcsrrhab"
      },
      "source": [
        "# Indentation example 1\n",
        "\n",
        "if 0 == 1:\n",
        "    print('We are in a world of arithmetic pain')\n",
        "print('Thank you for playing')"
      ],
      "execution_count": null,
      "outputs": []
    },
    {
      "cell_type": "code",
      "metadata": {
        "id": "_87e_izPrhab"
      },
      "source": [
        "# Indentation example 2\n",
        "# No output is generated\n",
        "\n",
        "if 0 == 1:\n",
        "    print('We are in a world of arithmetic pain')\n",
        "    print('Thank you for playing')"
      ],
      "execution_count": null,
      "outputs": []
    },
    {
      "cell_type": "markdown",
      "metadata": {
        "id": "T4Nx0a-prhab"
      },
      "source": [
        "#### Functions"
      ]
    },
    {
      "cell_type": "code",
      "metadata": {
        "id": "QQ8eIrpgrhab"
      },
      "source": [
        "# Example function\n",
        "\n",
        "def simpleAdd(a,b):\n",
        "    return(a+b)\n",
        "\n",
        "print(simpleAdd(3,5))"
      ],
      "execution_count": null,
      "outputs": []
    },
    {
      "cell_type": "markdown",
      "metadata": {
        "id": "BiGo3ufnrhab"
      },
      "source": [
        "***\n",
        "## Part 2: Python exercises ( 15 points )\n",
        "\n",
        "Look out for the 'YOUR CODE HERE:' comment in the following cells\n",
        "\n",
        "### 2.a) Operators ( 3 points )\n",
        "\n",
        "Write a function that applies the logistic sigmoid function to all elements of a list.\n",
        "The logistic sigmoid function is defined as :\n",
        "\n",
        "$f(x) = \\frac{1}{1+e^{-x}}$\n",
        "\n",
        "A sigmoid function is a mathematical function having a characteristic “S”-shaped curve or sigmoid curve. <br>\n",
        "The output of the sigmoid function is in the range [0,1]\n",
        "\n"
      ]
    },
    {
      "cell_type": "code",
      "metadata": {
        "id": "pP_bpJgsrhac"
      },
      "source": [
        "# Loading libraries \n",
        "\n",
        "import numpy as np\n",
        "import math\n",
        "import matplotlib.pyplot as plt\n",
        "import pandas as pd"
      ],
      "execution_count": null,
      "outputs": []
    },
    {
      "cell_type": "code",
      "metadata": {
        "colab": {
          "base_uri": "https://localhost:8080/",
          "height": 573
        },
        "id": "T8Nnv9Rcrhac",
        "outputId": "837c0fd4-6e63-4710-ed1d-95485853757e"
      },
      "source": [
        "# Write a function that applies the logistic sigmoid function to all elements of a NumPy array\n",
        "# The NumPy and Math libraries have useful predefined mathematical functions\n",
        "\n",
        "def sigmoid(inputArray):\n",
        "    \n",
        "    modifiedArray = np.zeros(len(inputArray))\n",
        "    \n",
        "    #YOUR CODE HERE:\n",
        "    modifiedArray = 1 / (1 + np.exp(-modifiedArray)) \n",
        "    \n",
        "    return(modifiedArray)\n",
        "\n",
        "def test_2a():\n",
        "\n",
        "    inputs = np.arange(-10, 10, 0.2)\n",
        "    outputs = sigmoid(inputs)\n",
        "    plt.figure(1)\n",
        "    plt.plot(inputs)\n",
        "    plt.title('Input')\n",
        "    plt.xlabel('Index')\n",
        "    plt.ylabel('Value')\n",
        "    plt.show()\n",
        "    plt.figure(2)\n",
        "    plt.plot(outputs,'red')\n",
        "    plt.title('Output')\n",
        "    plt.xlabel('Index')\n",
        "    plt.ylabel('Value')\n",
        "    plt.show()\n",
        "\n",
        "test_2a()"
      ],
      "execution_count": null,
      "outputs": [
        {
          "output_type": "display_data",
          "data": {
            "image/png": "[encoded data removed]",
            "text/plain": [
              "<Figure size 432x288 with 1 Axes>"
            ]
          },
          "metadata": {
            "tags": [],
            "needs_background": "light"
          }
        },
        {
          "output_type": "display_data",
          "data": {
            "image/png": "[encoded data removed]",
            "text/plain": [
              "<Figure size 432x288 with 1 Axes>"
            ]
          },
          "metadata": {
            "tags": [],
            "needs_background": "light"
          }
        }
      ]
    },
    {
      "cell_type": "markdown",
      "metadata": {
        "id": "IHxMJoSJrhac"
      },
      "source": [
        "### 2.b)  Noise addition ( 3 points )\n",
        "\n",
        "Write a function that adds random noisy values to all elements of a NumPy array. <br>\n",
        "Gaussian noise, or white noise, has a mean of 0 and a standard deviation of 1. <br >\n",
        "The addition of Gaussian noise is referred to as 'jittering' <br>\n",
        "\n",
        "Choose your noisy values such that they are randomly sampled from a Gaussian distribution that has a mean of 0 and a standard deviation of 1."
      ]
    },
    {
      "cell_type": "code",
      "metadata": {
        "id": "GBx2krLJrhac",
        "colab": {
          "base_uri": "https://localhost:8080/",
          "height": 573
        },
        "outputId": "09ffe5fb-a903-45c3-9df3-4376dd3dd5a3"
      },
      "source": [
        "# Write a function that adds a random noise to all elements of a NumPy array\n",
        "# The NumPy and math libraries have useful predefined mathematical functions\n",
        "# The numpy.random module maybe useful\n",
        "\n",
        "def addNoise(inputArray):\n",
        "    \n",
        "    modifiedArray = np.zeros(len(inputArray))\n",
        "    \n",
        "    #YOUR CODE HERE:\n",
        "    modifiedArray = np.random.randn(5)\n",
        "    return(modifiedArray)\n",
        "\n",
        "\n",
        "def test_2b():\n",
        "\n",
        "    inputs = np.arange(-10, 10, 0.2)\n",
        "    outputs = addNoise(inputs)\n",
        "    plt.figure(1)\n",
        "    plt.plot(inputs)\n",
        "    plt.title('Input')\n",
        "    plt.xlabel('Index')\n",
        "    plt.ylabel('Value')\n",
        "    plt.show()\n",
        "    plt.figure(2)\n",
        "    plt.plot(outputs,'red')\n",
        "    plt.title('Output')\n",
        "    plt.xlabel('Index')\n",
        "    plt.ylabel('Value')\n",
        "    plt.show()\n",
        "\n",
        "test_2b()"
      ],
      "execution_count": null,
      "outputs": [
        {
          "output_type": "display_data",
          "data": {
            "image/png": "[encoded data removed]",
            "text/plain": [
              "<Figure size 432x288 with 1 Axes>"
            ]
          },
          "metadata": {
            "tags": [],
            "needs_background": "light"
          }
        },
        {
          "output_type": "display_data",
          "data": {
            "image/png": "[encoded data removed]",
            "text/plain": [
              "<Figure size 432x288 with 1 Axes>"
            ]
          },
          "metadata": {
            "tags": [],
            "needs_background": "light"
          }
        }
      ]
    },
    {
      "cell_type": "markdown",
      "metadata": {
        "id": "-RZmVDuDrhad"
      },
      "source": [
        "### 2.c) Text processing ( 9 points )\n",
        "\n",
        "For data analyses involving raw text data, different preprocessing tasks are applied to clean the data. <br>\n",
        "This section uses some of the basic processes involved in text cleaning. \n",
        "\n",
        "- Find the total number of alphanumeric characters in the original input text\n",
        "- Find the total number of unique numeric characters in the original input text\n",
        "- Remove all non alphabetic characters (don't worry about punctuation rules for this task eg. \"don't\" would become \"dont\" ). Remember to preserve the space \" \" between words. \n",
        "- Convert all text to lowercase\n",
        "- Find the total number of words after preprocessing\n",
        "- Find the total number of unique words after preprocessing"
      ]
    },
    {
      "cell_type": "code",
      "metadata": {
        "id": "RiE2uYqTrhad"
      },
      "source": [
        "# This cell contains the sample text string \n",
        "\n",
        "sampleText = \"Northeastern University (NU or NEU) is a private research university in Boston, Massachusetts. Established in 1898, the university offers undergraduate and graduate programs on its main campus in Boston as well as satellite campuses in Charlotte, North Carolina; Seattle, Washington; San Jose, California;  San Francisco, California; Portland, Maine; and Toronto and Vancouver in Canada. In 2019, Northeastern purchased the New College of the Humanities in London, England. The university`s enrollment is approximately 19000 undergraduate students and 8600 graduate students.[5] It is classified among R1: Doctoral Universities – Very high research activity[6].\"\"Northeastern University (NU or NEU) is a private research university in Boston, Massachusetts. Established in 1898, the university offers undergraduate and graduate programs on its main campus in Boston as well as satellite campuses in Charlotte, North Carolina; Seattle, Washington; San Jose, California;  San Francisco, California; Portland, Maine; and Toronto and Vancouver in Canada. In 2019, Northeastern purchased the New College of the Humanities in London, England. The university’s enrollment is approximately 19000 undergraduate students and 8600 graduate students.[5] It is classified among R1: Doctoral Universities – Very high research activity[6].\"\n"
      ],
      "execution_count": null,
      "outputs": []
    },
    {
      "cell_type": "code",
      "metadata": {
        "id": "JFebcoSGrhae",
        "colab": {
          "base_uri": "https://localhost:8080/"
        },
        "outputId": "81deccea-b705-415a-fde7-7163e07600bc"
      },
      "source": [
        "# Your function should return 4 variables: alphaNumCount, uniqueNumCount, wordCount, uniqueWordCount\n",
        "\n",
        "def textPreprocessing(textString):\n",
        "\n",
        "    alphaNumCount, uniqueNumCount, wordCount, uniqueWordCount = (0, 0, 0, 0)\n",
        "    \n",
        "    #YOUR CODE HERE:\n",
        "    numbers = list()\n",
        "    unique_words = list()\n",
        "    string = \"\"\n",
        "    for i in textString:\n",
        "      if i.isalnum():\n",
        "        alphaNumCount += 1\n",
        "      if i.isdigit():\n",
        "        if i not in numbers:\n",
        "          numbers.append(i)\n",
        "      if i.isalpha() or i == \"\":\n",
        "        string = string + i\n",
        "\n",
        "    uniqueNumCount = len(numbers)\n",
        "\n",
        "    eachWords = string.split()\n",
        "    wordCount = len(eachWords)\n",
        "    for i in eachWords:\n",
        "      if i not in unique_words:\n",
        "        unique_words.append(i)\n",
        "\n",
        "    uniqueWordCount = len(unique_words)\n",
        "    finalWords = \"\"\n",
        "    for i in string:\n",
        "      if i.isalpha():\n",
        "        finalWords = finalWords + i\n",
        "    finalWords.lower()\n",
        "\n",
        "    return alphaNumCount, uniqueNumCount, wordCount, uniqueWordCount\n",
        "\n",
        "\n",
        "def test_2c(sampleText):\n",
        "\n",
        "    alphaNumCount, uniqueNumCount, wordCount, uniqueWordCount = textPreprocessing(sampleText)\n",
        "    print(\"Total number of alphanumeric characters in the original input text: \", alphaNumCount)\n",
        "    print(\"Total number of unique numeric characters in the original input text: \", uniqueNumCount)\n",
        "    print(\"Total number of words after preprocessing\", wordCount)\n",
        "    print(\"Total number of unique words after preprocessing\", uniqueWordCount)\n",
        "\n",
        "test_2c(sampleText)"
      ],
      "execution_count": 5,
      "outputs": [
        {
          "output_type": "stream",
          "text": [
            "Total number of alphanumeric characters in the original input text:  1084\n",
            "Total number of unique numeric characters in the original input text:  7\n",
            "Total number of words after preprocessing 1\n",
            "Total number of unique words after preprocessing 1\n"
          ],
          "name": "stdout"
        }
      ]
    },
    {
      "cell_type": "markdown",
      "metadata": {
        "id": "U0NwRBC1rhae"
      },
      "source": [
        "***\n",
        "\n",
        "## Part 3: Pandas: data processing ( 10 points )\n",
        "\n",
        "Pandas is a software library written for the Python programming language for data manipulation and analysis. In particular, it offers data structures and operations for manipulating numerical tables and time series. In this section, we will be looking at some of the preprocessing steps involved with analysing data.\n",
        "\n",
        "We will be using the 'cars.csv' dataset [ this csv file is provided inside your lab zipfile download ]\n",
        "\n",
        "Dataset resource: https://www.kaggle.com/abineshkumark/carsdata\n",
        "\n",
        "About the dataset: Cars Data has Information about 3 brands/make of cars. Namely US, Japan, Europe. Target of the data set to find the brand of a car using the parameters such as horsepower, Cubic inches, Make year, etc.\n",
        "\n",
        "Look out for the 'YOUR CODE HERE:' comment in the following cells\n",
        "\n",
        "### 3.a)  Loading a .csv file ( 2 points )"
      ]
    },
    {
      "cell_type": "code",
      "metadata": {
        "id": "G6zJnfS4rhaf",
        "colab": {
          "base_uri": "https://localhost:8080/"
        },
        "outputId": "55366b36-d62e-4ac0-d19e-36737a346676"
      },
      "source": [
        "# Loading a .csv file\n",
        "# Use a pandas fuction to read a csv file (cars.csv)\n",
        "# Store the csv file as a pandas dataframe called 'df'\n",
        "\n",
        "# YOUR CODE HERE\n",
        "from google.colab import drive \n",
        "drive.mount('/content/gdrive')\n",
        "df = pd.read_csv(\"gdrive/My Drive/Colab Notebooks/cars.csv\")"
      ],
      "execution_count": 8,
      "outputs": [
        {
          "output_type": "stream",
          "text": [
            "Drive already mounted at /content/gdrive; to attempt to forcibly remount, call drive.mount(\"/content/gdrive\", force_remount=True).\n"
          ],
          "name": "stdout"
        }
      ]
    },
    {
      "cell_type": "code",
      "metadata": {
        "id": "eigEdw-Drhaf",
        "colab": {
          "base_uri": "https://localhost:8080/",
          "height": 359
        },
        "outputId": "27e1cf60-0ce2-44ac-e3bb-a7f157db85d4"
      },
      "source": [
        "# Viewing a sample of the dataframe\n",
        "\n",
        "df.head(10)\n"
      ],
      "execution_count": 9,
      "outputs": [
        {
          "output_type": "execute_result",
          "data": {
            "text/html": [
              "<div>\n",
              "<style scoped>\n",
              "    .dataframe tbody tr th:only-of-type {\n",
              "        vertical-align: middle;\n",
              "    }\n",
              "\n",
              "    .dataframe tbody tr th {\n",
              "        vertical-align: top;\n",
              "    }\n",
              "\n",
              "    .dataframe thead th {\n",
              "        text-align: right;\n",
              "    }\n",
              "</style>\n",
              "<table border=\"1\" class=\"dataframe\">\n",
              "  <thead>\n",
              "    <tr style=\"text-align: right;\">\n",
              "      <th></th>\n",
              "      <th>mpg</th>\n",
              "      <th>cylinders</th>\n",
              "      <th>cubicinches</th>\n",
              "      <th>hp</th>\n",
              "      <th>weightlbs</th>\n",
              "      <th>time-to-60</th>\n",
              "      <th>year</th>\n",
              "      <th>brand</th>\n",
              "    </tr>\n",
              "  </thead>\n",
              "  <tbody>\n",
              "    <tr>\n",
              "      <th>0</th>\n",
              "      <td>14.0</td>\n",
              "      <td>8</td>\n",
              "      <td>350</td>\n",
              "      <td>165</td>\n",
              "      <td>4209</td>\n",
              "      <td>12</td>\n",
              "      <td>1972</td>\n",
              "      <td>US.</td>\n",
              "    </tr>\n",
              "    <tr>\n",
              "      <th>1</th>\n",
              "      <td>31.9</td>\n",
              "      <td>4</td>\n",
              "      <td>89</td>\n",
              "      <td>71</td>\n",
              "      <td>1925</td>\n",
              "      <td>14</td>\n",
              "      <td>1980</td>\n",
              "      <td>Europe.</td>\n",
              "    </tr>\n",
              "    <tr>\n",
              "      <th>2</th>\n",
              "      <td>17.0</td>\n",
              "      <td>8</td>\n",
              "      <td>302</td>\n",
              "      <td>140</td>\n",
              "      <td>3449</td>\n",
              "      <td>11</td>\n",
              "      <td>1971</td>\n",
              "      <td>US.</td>\n",
              "    </tr>\n",
              "    <tr>\n",
              "      <th>3</th>\n",
              "      <td>15.0</td>\n",
              "      <td>8</td>\n",
              "      <td>400</td>\n",
              "      <td>150</td>\n",
              "      <td>3761</td>\n",
              "      <td>10</td>\n",
              "      <td>1971</td>\n",
              "      <td>US.</td>\n",
              "    </tr>\n",
              "    <tr>\n",
              "      <th>4</th>\n",
              "      <td>30.5</td>\n",
              "      <td>4</td>\n",
              "      <td>98</td>\n",
              "      <td>63</td>\n",
              "      <td>2051</td>\n",
              "      <td>17</td>\n",
              "      <td>1978</td>\n",
              "      <td>US.</td>\n",
              "    </tr>\n",
              "    <tr>\n",
              "      <th>5</th>\n",
              "      <td>23.0</td>\n",
              "      <td>8</td>\n",
              "      <td>350</td>\n",
              "      <td>125</td>\n",
              "      <td>3900</td>\n",
              "      <td>17</td>\n",
              "      <td>1980</td>\n",
              "      <td>US.</td>\n",
              "    </tr>\n",
              "    <tr>\n",
              "      <th>6</th>\n",
              "      <td>13.0</td>\n",
              "      <td>8</td>\n",
              "      <td>351</td>\n",
              "      <td>158</td>\n",
              "      <td>4363</td>\n",
              "      <td>13</td>\n",
              "      <td>1974</td>\n",
              "      <td>US.</td>\n",
              "    </tr>\n",
              "    <tr>\n",
              "      <th>7</th>\n",
              "      <td>14.0</td>\n",
              "      <td>8</td>\n",
              "      <td>440</td>\n",
              "      <td>215</td>\n",
              "      <td>4312</td>\n",
              "      <td>9</td>\n",
              "      <td>1971</td>\n",
              "      <td>US.</td>\n",
              "    </tr>\n",
              "    <tr>\n",
              "      <th>8</th>\n",
              "      <td>25.4</td>\n",
              "      <td>5</td>\n",
              "      <td>183</td>\n",
              "      <td>77</td>\n",
              "      <td>3530</td>\n",
              "      <td>20</td>\n",
              "      <td>1980</td>\n",
              "      <td>Europe.</td>\n",
              "    </tr>\n",
              "    <tr>\n",
              "      <th>9</th>\n",
              "      <td>37.7</td>\n",
              "      <td>4</td>\n",
              "      <td>89</td>\n",
              "      <td>62</td>\n",
              "      <td>2050</td>\n",
              "      <td>17</td>\n",
              "      <td>1982</td>\n",
              "      <td>Japan.</td>\n",
              "    </tr>\n",
              "  </tbody>\n",
              "</table>\n",
              "</div>"
            ],
            "text/plain": [
              "    mpg   cylinders cubicinches   hp weightlbs  time-to-60  year     brand\n",
              "0  14.0           8         350  165      4209          12  1972       US.\n",
              "1  31.9           4          89   71      1925          14  1980   Europe.\n",
              "2  17.0           8         302  140      3449          11  1971       US.\n",
              "3  15.0           8         400  150      3761          10  1971       US.\n",
              "4  30.5           4          98   63      2051          17  1978       US.\n",
              "5  23.0           8         350  125      3900          17  1980       US.\n",
              "6  13.0           8         351  158      4363          13  1974       US.\n",
              "7  14.0           8         440  215      4312           9  1971       US.\n",
              "8  25.4           5         183   77      3530          20  1980   Europe.\n",
              "9  37.7           4          89   62      2050          17  1982    Japan."
            ]
          },
          "metadata": {
            "tags": []
          },
          "execution_count": 9
        }
      ]
    },
    {
      "cell_type": "markdown",
      "metadata": {
        "id": "noOGHDsirhaf"
      },
      "source": [
        "### 3.b) Removing columns ( 2 points )\n",
        "\n",
        "Find a Pandas function that can be used to remove columns based on the column name. <br>\n",
        "Store the modified dataframe in a new dataframe 'df_new' <br>\n",
        "Remove the cubicinches, weightlbs, brand columns"
      ]
    },
    {
      "cell_type": "code",
      "metadata": {
        "id": "M1KHghPzrhaf",
        "colab": {
          "base_uri": "https://localhost:8080/",
          "height": 419
        },
        "outputId": "0d47e75c-76fd-48a9-cf34-943fcd0c1711"
      },
      "source": [
        "# Removing columns \n",
        "# Remove the 'cubicinches','weightlbs','brand' columns \n",
        "# Store the modified dataframe in a new dataframe 'df_new'\n",
        "\n",
        "#YOUR CODE HERE:\n",
        "df_new = df.drop(columns=[\"cubicinches\", \"weightlbs\", \"brand\"], axis=1)\n",
        "\n",
        "df_new"
      ],
      "execution_count": 26,
      "outputs": [
        {
          "output_type": "execute_result",
          "data": {
            "text/html": [
              "<div>\n",
              "<style scoped>\n",
              "    .dataframe tbody tr th:only-of-type {\n",
              "        vertical-align: middle;\n",
              "    }\n",
              "\n",
              "    .dataframe tbody tr th {\n",
              "        vertical-align: top;\n",
              "    }\n",
              "\n",
              "    .dataframe thead th {\n",
              "        text-align: right;\n",
              "    }\n",
              "</style>\n",
              "<table border=\"1\" class=\"dataframe\">\n",
              "  <thead>\n",
              "    <tr style=\"text-align: right;\">\n",
              "      <th></th>\n",
              "      <th>mpg</th>\n",
              "      <th>cylinders</th>\n",
              "      <th>hp</th>\n",
              "      <th>time-to-60</th>\n",
              "      <th>year</th>\n",
              "    </tr>\n",
              "  </thead>\n",
              "  <tbody>\n",
              "    <tr>\n",
              "      <th>0</th>\n",
              "      <td>14.0</td>\n",
              "      <td>8</td>\n",
              "      <td>165</td>\n",
              "      <td>12</td>\n",
              "      <td>1972</td>\n",
              "    </tr>\n",
              "    <tr>\n",
              "      <th>1</th>\n",
              "      <td>31.9</td>\n",
              "      <td>4</td>\n",
              "      <td>71</td>\n",
              "      <td>14</td>\n",
              "      <td>1980</td>\n",
              "    </tr>\n",
              "    <tr>\n",
              "      <th>2</th>\n",
              "      <td>17.0</td>\n",
              "      <td>8</td>\n",
              "      <td>140</td>\n",
              "      <td>11</td>\n",
              "      <td>1971</td>\n",
              "    </tr>\n",
              "    <tr>\n",
              "      <th>3</th>\n",
              "      <td>15.0</td>\n",
              "      <td>8</td>\n",
              "      <td>150</td>\n",
              "      <td>10</td>\n",
              "      <td>1971</td>\n",
              "    </tr>\n",
              "    <tr>\n",
              "      <th>4</th>\n",
              "      <td>30.5</td>\n",
              "      <td>4</td>\n",
              "      <td>63</td>\n",
              "      <td>17</td>\n",
              "      <td>1978</td>\n",
              "    </tr>\n",
              "    <tr>\n",
              "      <th>...</th>\n",
              "      <td>...</td>\n",
              "      <td>...</td>\n",
              "      <td>...</td>\n",
              "      <td>...</td>\n",
              "      <td>...</td>\n",
              "    </tr>\n",
              "    <tr>\n",
              "      <th>256</th>\n",
              "      <td>17.0</td>\n",
              "      <td>8</td>\n",
              "      <td>130</td>\n",
              "      <td>15</td>\n",
              "      <td>1980</td>\n",
              "    </tr>\n",
              "    <tr>\n",
              "      <th>257</th>\n",
              "      <td>36.1</td>\n",
              "      <td>4</td>\n",
              "      <td>60</td>\n",
              "      <td>16</td>\n",
              "      <td>1979</td>\n",
              "    </tr>\n",
              "    <tr>\n",
              "      <th>258</th>\n",
              "      <td>22.0</td>\n",
              "      <td>6</td>\n",
              "      <td>112</td>\n",
              "      <td>15</td>\n",
              "      <td>1983</td>\n",
              "    </tr>\n",
              "    <tr>\n",
              "      <th>259</th>\n",
              "      <td>18.0</td>\n",
              "      <td>6</td>\n",
              "      <td>100</td>\n",
              "      <td>16</td>\n",
              "      <td>1972</td>\n",
              "    </tr>\n",
              "    <tr>\n",
              "      <th>260</th>\n",
              "      <td>22.0</td>\n",
              "      <td>6</td>\n",
              "      <td>105</td>\n",
              "      <td>15</td>\n",
              "      <td>1977</td>\n",
              "    </tr>\n",
              "  </tbody>\n",
              "</table>\n",
              "<p>261 rows × 5 columns</p>\n",
              "</div>"
            ],
            "text/plain": [
              "      mpg   cylinders   hp  time-to-60  year\n",
              "0    14.0           8  165          12  1972\n",
              "1    31.9           4   71          14  1980\n",
              "2    17.0           8  140          11  1971\n",
              "3    15.0           8  150          10  1971\n",
              "4    30.5           4   63          17  1978\n",
              "..    ...         ...  ...         ...   ...\n",
              "256  17.0           8  130          15  1980\n",
              "257  36.1           4   60          16  1979\n",
              "258  22.0           6  112          15  1983\n",
              "259  18.0           6  100          16  1972\n",
              "260  22.0           6  105          15  1977\n",
              "\n",
              "[261 rows x 5 columns]"
            ]
          },
          "metadata": {
            "tags": []
          },
          "execution_count": 26
        }
      ]
    },
    {
      "cell_type": "code",
      "metadata": {
        "id": "zGmXFF3xrhaf",
        "colab": {
          "base_uri": "https://localhost:8080/",
          "height": 297
        },
        "outputId": "0ab9f40d-c12e-411e-8389-de34f72250c9"
      },
      "source": [
        "# Generate descriptive statistics after column-dropping\n",
        "\n",
        "df_new.describe()"
      ],
      "execution_count": 17,
      "outputs": [
        {
          "output_type": "execute_result",
          "data": {
            "text/html": [
              "<div>\n",
              "<style scoped>\n",
              "    .dataframe tbody tr th:only-of-type {\n",
              "        vertical-align: middle;\n",
              "    }\n",
              "\n",
              "    .dataframe tbody tr th {\n",
              "        vertical-align: top;\n",
              "    }\n",
              "\n",
              "    .dataframe thead th {\n",
              "        text-align: right;\n",
              "    }\n",
              "</style>\n",
              "<table border=\"1\" class=\"dataframe\">\n",
              "  <thead>\n",
              "    <tr style=\"text-align: right;\">\n",
              "      <th></th>\n",
              "      <th>mpg</th>\n",
              "      <th>cylinders</th>\n",
              "      <th>hp</th>\n",
              "      <th>time-to-60</th>\n",
              "      <th>year</th>\n",
              "    </tr>\n",
              "  </thead>\n",
              "  <tbody>\n",
              "    <tr>\n",
              "      <th>count</th>\n",
              "      <td>261.000000</td>\n",
              "      <td>261.000000</td>\n",
              "      <td>261.000000</td>\n",
              "      <td>261.000000</td>\n",
              "      <td>261.000000</td>\n",
              "    </tr>\n",
              "    <tr>\n",
              "      <th>mean</th>\n",
              "      <td>23.144828</td>\n",
              "      <td>5.590038</td>\n",
              "      <td>106.360153</td>\n",
              "      <td>15.547893</td>\n",
              "      <td>1976.819923</td>\n",
              "    </tr>\n",
              "    <tr>\n",
              "      <th>std</th>\n",
              "      <td>7.823570</td>\n",
              "      <td>1.733310</td>\n",
              "      <td>40.499959</td>\n",
              "      <td>2.910625</td>\n",
              "      <td>3.637696</td>\n",
              "    </tr>\n",
              "    <tr>\n",
              "      <th>min</th>\n",
              "      <td>10.000000</td>\n",
              "      <td>3.000000</td>\n",
              "      <td>46.000000</td>\n",
              "      <td>8.000000</td>\n",
              "      <td>1971.000000</td>\n",
              "    </tr>\n",
              "    <tr>\n",
              "      <th>25%</th>\n",
              "      <td>16.900000</td>\n",
              "      <td>4.000000</td>\n",
              "      <td>75.000000</td>\n",
              "      <td>14.000000</td>\n",
              "      <td>1974.000000</td>\n",
              "    </tr>\n",
              "    <tr>\n",
              "      <th>50%</th>\n",
              "      <td>22.000000</td>\n",
              "      <td>6.000000</td>\n",
              "      <td>95.000000</td>\n",
              "      <td>16.000000</td>\n",
              "      <td>1977.000000</td>\n",
              "    </tr>\n",
              "    <tr>\n",
              "      <th>75%</th>\n",
              "      <td>28.800000</td>\n",
              "      <td>8.000000</td>\n",
              "      <td>138.000000</td>\n",
              "      <td>17.000000</td>\n",
              "      <td>1980.000000</td>\n",
              "    </tr>\n",
              "    <tr>\n",
              "      <th>max</th>\n",
              "      <td>46.600000</td>\n",
              "      <td>8.000000</td>\n",
              "      <td>230.000000</td>\n",
              "      <td>25.000000</td>\n",
              "      <td>1983.000000</td>\n",
              "    </tr>\n",
              "  </tbody>\n",
              "</table>\n",
              "</div>"
            ],
            "text/plain": [
              "              mpg   cylinders          hp  time-to-60         year\n",
              "count  261.000000  261.000000  261.000000  261.000000   261.000000\n",
              "mean    23.144828    5.590038  106.360153   15.547893  1976.819923\n",
              "std      7.823570    1.733310   40.499959    2.910625     3.637696\n",
              "min     10.000000    3.000000   46.000000    8.000000  1971.000000\n",
              "25%     16.900000    4.000000   75.000000   14.000000  1974.000000\n",
              "50%     22.000000    6.000000   95.000000   16.000000  1977.000000\n",
              "75%     28.800000    8.000000  138.000000   17.000000  1980.000000\n",
              "max     46.600000    8.000000  230.000000   25.000000  1983.000000"
            ]
          },
          "metadata": {
            "tags": []
          },
          "execution_count": 17
        }
      ]
    },
    {
      "cell_type": "markdown",
      "metadata": {
        "id": "iDZCa15irhaf"
      },
      "source": [
        "### 3.c) Min-max scaling ( 3 points )\n",
        "\n",
        "Feature Scaling is a technique to standardize the independent features present in the data in a fixed range. It is performed during the data pre-processing to handle highly varying magnitudes or values or units.In this approach, the data is scaled to a fixed range - usually 0 to 1.<br>\n",
        "<br>A min-max scaling is typically done via the following equation: <br><br>\n",
        "$X_{scaled} = \\frac{X - X_{min}}{X_{max} - X_{min}}$\n",
        "\n",
        "Eg. Given a sequence [ 1, 2, 3, 4, 5 ] <br>\n",
        "    The min-max scaled version would be [ 0, 0.25, 0.50, 0.75. 1.0 ] "
      ]
    },
    {
      "cell_type": "code",
      "metadata": {
        "id": "ObX903kIrhag",
        "colab": {
          "base_uri": "https://localhost:8080/",
          "height": 419
        },
        "outputId": "d30dab91-9d9d-42c7-b62d-2a25d48d3ce5"
      },
      "source": [
        "# Perform min-max scaling scaling on all the columns of 'df_new'\n",
        "# Store the modified dataframe in a new dataframe 'df_scaled'\n",
        "\n",
        "#YOUR CODE HERE:\n",
        "\n",
        "from sklearn.preprocessing import MinMaxScaler\n",
        "\n",
        "scaler = MinMaxScaler()\n",
        "df_scaled = pd.DataFrame(scaler.fit_transform(df_new), columns= df_new.columns)\n",
        "\n",
        "df_scaled"
      ],
      "execution_count": 24,
      "outputs": [
        {
          "output_type": "execute_result",
          "data": {
            "text/html": [
              "<div>\n",
              "<style scoped>\n",
              "    .dataframe tbody tr th:only-of-type {\n",
              "        vertical-align: middle;\n",
              "    }\n",
              "\n",
              "    .dataframe tbody tr th {\n",
              "        vertical-align: top;\n",
              "    }\n",
              "\n",
              "    .dataframe thead th {\n",
              "        text-align: right;\n",
              "    }\n",
              "</style>\n",
              "<table border=\"1\" class=\"dataframe\">\n",
              "  <thead>\n",
              "    <tr style=\"text-align: right;\">\n",
              "      <th></th>\n",
              "      <th>mpg</th>\n",
              "      <th>cylinders</th>\n",
              "      <th>hp</th>\n",
              "      <th>time-to-60</th>\n",
              "      <th>year</th>\n",
              "    </tr>\n",
              "  </thead>\n",
              "  <tbody>\n",
              "    <tr>\n",
              "      <th>0</th>\n",
              "      <td>0.109290</td>\n",
              "      <td>1.0</td>\n",
              "      <td>0.646739</td>\n",
              "      <td>0.235294</td>\n",
              "      <td>0.083333</td>\n",
              "    </tr>\n",
              "    <tr>\n",
              "      <th>1</th>\n",
              "      <td>0.598361</td>\n",
              "      <td>0.2</td>\n",
              "      <td>0.135870</td>\n",
              "      <td>0.352941</td>\n",
              "      <td>0.750000</td>\n",
              "    </tr>\n",
              "    <tr>\n",
              "      <th>2</th>\n",
              "      <td>0.191257</td>\n",
              "      <td>1.0</td>\n",
              "      <td>0.510870</td>\n",
              "      <td>0.176471</td>\n",
              "      <td>0.000000</td>\n",
              "    </tr>\n",
              "    <tr>\n",
              "      <th>3</th>\n",
              "      <td>0.136612</td>\n",
              "      <td>1.0</td>\n",
              "      <td>0.565217</td>\n",
              "      <td>0.117647</td>\n",
              "      <td>0.000000</td>\n",
              "    </tr>\n",
              "    <tr>\n",
              "      <th>4</th>\n",
              "      <td>0.560109</td>\n",
              "      <td>0.2</td>\n",
              "      <td>0.092391</td>\n",
              "      <td>0.529412</td>\n",
              "      <td>0.583333</td>\n",
              "    </tr>\n",
              "    <tr>\n",
              "      <th>...</th>\n",
              "      <td>...</td>\n",
              "      <td>...</td>\n",
              "      <td>...</td>\n",
              "      <td>...</td>\n",
              "      <td>...</td>\n",
              "    </tr>\n",
              "    <tr>\n",
              "      <th>256</th>\n",
              "      <td>0.191257</td>\n",
              "      <td>1.0</td>\n",
              "      <td>0.456522</td>\n",
              "      <td>0.411765</td>\n",
              "      <td>0.750000</td>\n",
              "    </tr>\n",
              "    <tr>\n",
              "      <th>257</th>\n",
              "      <td>0.713115</td>\n",
              "      <td>0.2</td>\n",
              "      <td>0.076087</td>\n",
              "      <td>0.470588</td>\n",
              "      <td>0.666667</td>\n",
              "    </tr>\n",
              "    <tr>\n",
              "      <th>258</th>\n",
              "      <td>0.327869</td>\n",
              "      <td>0.6</td>\n",
              "      <td>0.358696</td>\n",
              "      <td>0.411765</td>\n",
              "      <td>1.000000</td>\n",
              "    </tr>\n",
              "    <tr>\n",
              "      <th>259</th>\n",
              "      <td>0.218579</td>\n",
              "      <td>0.6</td>\n",
              "      <td>0.293478</td>\n",
              "      <td>0.470588</td>\n",
              "      <td>0.083333</td>\n",
              "    </tr>\n",
              "    <tr>\n",
              "      <th>260</th>\n",
              "      <td>0.327869</td>\n",
              "      <td>0.6</td>\n",
              "      <td>0.320652</td>\n",
              "      <td>0.411765</td>\n",
              "      <td>0.500000</td>\n",
              "    </tr>\n",
              "  </tbody>\n",
              "</table>\n",
              "<p>261 rows × 5 columns</p>\n",
              "</div>"
            ],
            "text/plain": [
              "          mpg   cylinders        hp  time-to-60      year\n",
              "0    0.109290         1.0  0.646739    0.235294  0.083333\n",
              "1    0.598361         0.2  0.135870    0.352941  0.750000\n",
              "2    0.191257         1.0  0.510870    0.176471  0.000000\n",
              "3    0.136612         1.0  0.565217    0.117647  0.000000\n",
              "4    0.560109         0.2  0.092391    0.529412  0.583333\n",
              "..        ...         ...       ...         ...       ...\n",
              "256  0.191257         1.0  0.456522    0.411765  0.750000\n",
              "257  0.713115         0.2  0.076087    0.470588  0.666667\n",
              "258  0.327869         0.6  0.358696    0.411765  1.000000\n",
              "259  0.218579         0.6  0.293478    0.470588  0.083333\n",
              "260  0.327869         0.6  0.320652    0.411765  0.500000\n",
              "\n",
              "[261 rows x 5 columns]"
            ]
          },
          "metadata": {
            "tags": []
          },
          "execution_count": 24
        }
      ]
    },
    {
      "cell_type": "code",
      "metadata": {
        "id": "7CpOuODbrhag",
        "colab": {
          "base_uri": "https://localhost:8080/",
          "height": 297
        },
        "outputId": "45875d5d-9a3f-4d80-afcc-33989234e48a"
      },
      "source": [
        "# Generate descriptive statistics after min-max scaling\n",
        "# Observe that the min and max statistics have been modified\n",
        "\n",
        "df_scaled.describe()"
      ],
      "execution_count": 25,
      "outputs": [
        {
          "output_type": "execute_result",
          "data": {
            "text/html": [
              "<div>\n",
              "<style scoped>\n",
              "    .dataframe tbody tr th:only-of-type {\n",
              "        vertical-align: middle;\n",
              "    }\n",
              "\n",
              "    .dataframe tbody tr th {\n",
              "        vertical-align: top;\n",
              "    }\n",
              "\n",
              "    .dataframe thead th {\n",
              "        text-align: right;\n",
              "    }\n",
              "</style>\n",
              "<table border=\"1\" class=\"dataframe\">\n",
              "  <thead>\n",
              "    <tr style=\"text-align: right;\">\n",
              "      <th></th>\n",
              "      <th>mpg</th>\n",
              "      <th>cylinders</th>\n",
              "      <th>hp</th>\n",
              "      <th>time-to-60</th>\n",
              "      <th>year</th>\n",
              "    </tr>\n",
              "  </thead>\n",
              "  <tbody>\n",
              "    <tr>\n",
              "      <th>count</th>\n",
              "      <td>261.000000</td>\n",
              "      <td>261.000000</td>\n",
              "      <td>261.000000</td>\n",
              "      <td>261.000000</td>\n",
              "      <td>261.000000</td>\n",
              "    </tr>\n",
              "    <tr>\n",
              "      <th>mean</th>\n",
              "      <td>0.359148</td>\n",
              "      <td>0.518008</td>\n",
              "      <td>0.328044</td>\n",
              "      <td>0.443994</td>\n",
              "      <td>0.484994</td>\n",
              "    </tr>\n",
              "    <tr>\n",
              "      <th>std</th>\n",
              "      <td>0.213759</td>\n",
              "      <td>0.346662</td>\n",
              "      <td>0.220108</td>\n",
              "      <td>0.171213</td>\n",
              "      <td>0.303141</td>\n",
              "    </tr>\n",
              "    <tr>\n",
              "      <th>min</th>\n",
              "      <td>0.000000</td>\n",
              "      <td>0.000000</td>\n",
              "      <td>0.000000</td>\n",
              "      <td>0.000000</td>\n",
              "      <td>0.000000</td>\n",
              "    </tr>\n",
              "    <tr>\n",
              "      <th>25%</th>\n",
              "      <td>0.188525</td>\n",
              "      <td>0.200000</td>\n",
              "      <td>0.157609</td>\n",
              "      <td>0.352941</td>\n",
              "      <td>0.250000</td>\n",
              "    </tr>\n",
              "    <tr>\n",
              "      <th>50%</th>\n",
              "      <td>0.327869</td>\n",
              "      <td>0.600000</td>\n",
              "      <td>0.266304</td>\n",
              "      <td>0.470588</td>\n",
              "      <td>0.500000</td>\n",
              "    </tr>\n",
              "    <tr>\n",
              "      <th>75%</th>\n",
              "      <td>0.513661</td>\n",
              "      <td>1.000000</td>\n",
              "      <td>0.500000</td>\n",
              "      <td>0.529412</td>\n",
              "      <td>0.750000</td>\n",
              "    </tr>\n",
              "    <tr>\n",
              "      <th>max</th>\n",
              "      <td>1.000000</td>\n",
              "      <td>1.000000</td>\n",
              "      <td>1.000000</td>\n",
              "      <td>1.000000</td>\n",
              "      <td>1.000000</td>\n",
              "    </tr>\n",
              "  </tbody>\n",
              "</table>\n",
              "</div>"
            ],
            "text/plain": [
              "              mpg   cylinders          hp  time-to-60        year\n",
              "count  261.000000  261.000000  261.000000  261.000000  261.000000\n",
              "mean     0.359148    0.518008    0.328044    0.443994    0.484994\n",
              "std      0.213759    0.346662    0.220108    0.171213    0.303141\n",
              "min      0.000000    0.000000    0.000000    0.000000    0.000000\n",
              "25%      0.188525    0.200000    0.157609    0.352941    0.250000\n",
              "50%      0.327869    0.600000    0.266304    0.470588    0.500000\n",
              "75%      0.513661    1.000000    0.500000    0.529412    0.750000\n",
              "max      1.000000    1.000000    1.000000    1.000000    1.000000"
            ]
          },
          "metadata": {
            "tags": []
          },
          "execution_count": 25
        }
      ]
    },
    {
      "cell_type": "markdown",
      "metadata": {
        "id": "vCoy9kLIz6N5"
      },
      "source": [
        "Source: [TowardDataScience](https://towardsdatascience.com/data-normalization-with-pandas-and-scikit-learn-7c1cc6ed6475)"
      ]
    },
    {
      "cell_type": "markdown",
      "metadata": {
        "id": "0wCOi7BLrhag"
      },
      "source": [
        "### 3.d) Standardization ( 3 points )\n",
        "\n",
        "It is a very effective technique which re-scales a feature value so that it has distribution with 0 mean value and variance equals to 1.\n",
        "\n",
        "Standardization rescales data to have a mean (𝜇) of 0 and standard deviation (𝜎) of 1 (unit variance).\n",
        "\n",
        "$X_{std} = \\frac{X - \\mu}{\\sigma}$\n",
        "\n",
        "Standardization can be visualized as a shifting and stretching/shrinking process. "
      ]
    },
    {
      "cell_type": "code",
      "metadata": {
        "id": "PVi8e4GVrhag",
        "colab": {
          "base_uri": "https://localhost:8080/",
          "height": 419
        },
        "outputId": "0d0daca3-1a3c-4185-a534-c12a0ab43baf"
      },
      "source": [
        "# Perform standardization on all the columns of 'df_new'\n",
        "# Store the modified dataframe in a new dataframe 'df_std'\n",
        "\n",
        "#YOUR CODE HERE:\n",
        "from sklearn.preprocessing import StandardScaler\n",
        "\n",
        "stdScaler = StandardScaler()\n",
        "df_std = pd.DataFrame(stdScaler.fit_transform(df_new), columns= df_new.columns)\n",
        "df_std"
      ],
      "execution_count": 32,
      "outputs": [
        {
          "output_type": "execute_result",
          "data": {
            "text/html": [
              "<div>\n",
              "<style scoped>\n",
              "    .dataframe tbody tr th:only-of-type {\n",
              "        vertical-align: middle;\n",
              "    }\n",
              "\n",
              "    .dataframe tbody tr th {\n",
              "        vertical-align: top;\n",
              "    }\n",
              "\n",
              "    .dataframe thead th {\n",
              "        text-align: right;\n",
              "    }\n",
              "</style>\n",
              "<table border=\"1\" class=\"dataframe\">\n",
              "  <thead>\n",
              "    <tr style=\"text-align: right;\">\n",
              "      <th></th>\n",
              "      <th>mpg</th>\n",
              "      <th>cylinders</th>\n",
              "      <th>hp</th>\n",
              "      <th>time-to-60</th>\n",
              "      <th>year</th>\n",
              "    </tr>\n",
              "  </thead>\n",
              "  <tbody>\n",
              "    <tr>\n",
              "      <th>0</th>\n",
              "      <td>-1.171127</td>\n",
              "      <td>1.393053</td>\n",
              "      <td>1.450681</td>\n",
              "      <td>-1.221287</td>\n",
              "      <td>-1.327539</td>\n",
              "    </tr>\n",
              "    <tr>\n",
              "      <th>1</th>\n",
              "      <td>1.121226</td>\n",
              "      <td>-0.919105</td>\n",
              "      <td>-0.874768</td>\n",
              "      <td>-0.532829</td>\n",
              "      <td>0.875880</td>\n",
              "    </tr>\n",
              "    <tr>\n",
              "      <th>2</th>\n",
              "      <td>-0.786934</td>\n",
              "      <td>1.393053</td>\n",
              "      <td>0.832210</td>\n",
              "      <td>-1.565516</td>\n",
              "      <td>-1.602966</td>\n",
              "    </tr>\n",
              "    <tr>\n",
              "      <th>3</th>\n",
              "      <td>-1.043063</td>\n",
              "      <td>1.393053</td>\n",
              "      <td>1.079598</td>\n",
              "      <td>-1.909745</td>\n",
              "      <td>-1.602966</td>\n",
              "    </tr>\n",
              "    <tr>\n",
              "      <th>4</th>\n",
              "      <td>0.941936</td>\n",
              "      <td>-0.919105</td>\n",
              "      <td>-1.072679</td>\n",
              "      <td>0.499857</td>\n",
              "      <td>0.325025</td>\n",
              "    </tr>\n",
              "    <tr>\n",
              "      <th>...</th>\n",
              "      <td>...</td>\n",
              "      <td>...</td>\n",
              "      <td>...</td>\n",
              "      <td>...</td>\n",
              "      <td>...</td>\n",
              "    </tr>\n",
              "    <tr>\n",
              "      <th>256</th>\n",
              "      <td>-0.786934</td>\n",
              "      <td>1.393053</td>\n",
              "      <td>0.584822</td>\n",
              "      <td>-0.188601</td>\n",
              "      <td>0.875880</td>\n",
              "    </tr>\n",
              "    <tr>\n",
              "      <th>257</th>\n",
              "      <td>1.659097</td>\n",
              "      <td>-0.919105</td>\n",
              "      <td>-1.146896</td>\n",
              "      <td>0.155628</td>\n",
              "      <td>0.600453</td>\n",
              "    </tr>\n",
              "    <tr>\n",
              "      <th>258</th>\n",
              "      <td>-0.146612</td>\n",
              "      <td>0.236974</td>\n",
              "      <td>0.139523</td>\n",
              "      <td>-0.188601</td>\n",
              "      <td>1.702163</td>\n",
              "    </tr>\n",
              "    <tr>\n",
              "      <th>259</th>\n",
              "      <td>-0.658870</td>\n",
              "      <td>0.236974</td>\n",
              "      <td>-0.157343</td>\n",
              "      <td>0.155628</td>\n",
              "      <td>-1.327539</td>\n",
              "    </tr>\n",
              "    <tr>\n",
              "      <th>260</th>\n",
              "      <td>-0.146612</td>\n",
              "      <td>0.236974</td>\n",
              "      <td>-0.033649</td>\n",
              "      <td>-0.188601</td>\n",
              "      <td>0.049598</td>\n",
              "    </tr>\n",
              "  </tbody>\n",
              "</table>\n",
              "<p>261 rows × 5 columns</p>\n",
              "</div>"
            ],
            "text/plain": [
              "          mpg   cylinders        hp  time-to-60      year\n",
              "0   -1.171127    1.393053  1.450681   -1.221287 -1.327539\n",
              "1    1.121226   -0.919105 -0.874768   -0.532829  0.875880\n",
              "2   -0.786934    1.393053  0.832210   -1.565516 -1.602966\n",
              "3   -1.043063    1.393053  1.079598   -1.909745 -1.602966\n",
              "4    0.941936   -0.919105 -1.072679    0.499857  0.325025\n",
              "..        ...         ...       ...         ...       ...\n",
              "256 -0.786934    1.393053  0.584822   -0.188601  0.875880\n",
              "257  1.659097   -0.919105 -1.146896    0.155628  0.600453\n",
              "258 -0.146612    0.236974  0.139523   -0.188601  1.702163\n",
              "259 -0.658870    0.236974 -0.157343    0.155628 -1.327539\n",
              "260 -0.146612    0.236974 -0.033649   -0.188601  0.049598\n",
              "\n",
              "[261 rows x 5 columns]"
            ]
          },
          "metadata": {
            "tags": []
          },
          "execution_count": 32
        }
      ]
    },
    {
      "cell_type": "markdown",
      "metadata": {
        "id": "OwK3mLKD4cu0"
      },
      "source": [
        "Source: [Kdnuggets](https://www.kdnuggets.com/2020/04/data-transformation-standaradization-normalization.html)"
      ]
    },
    {
      "cell_type": "code",
      "metadata": {
        "scrolled": true,
        "id": "OZ_9jSdErhag",
        "colab": {
          "base_uri": "https://localhost:8080/",
          "height": 297
        },
        "outputId": "991d8cce-af2a-4e11-904f-09b718b71ec9"
      },
      "source": [
        "# Generate descriptive statistics after standardization\n",
        "# Observe that the mean and standard deviation statistics have been modified\n",
        "\n",
        "df_std.describe()"
      ],
      "execution_count": 33,
      "outputs": [
        {
          "output_type": "execute_result",
          "data": {
            "text/html": [
              "<div>\n",
              "<style scoped>\n",
              "    .dataframe tbody tr th:only-of-type {\n",
              "        vertical-align: middle;\n",
              "    }\n",
              "\n",
              "    .dataframe tbody tr th {\n",
              "        vertical-align: top;\n",
              "    }\n",
              "\n",
              "    .dataframe thead th {\n",
              "        text-align: right;\n",
              "    }\n",
              "</style>\n",
              "<table border=\"1\" class=\"dataframe\">\n",
              "  <thead>\n",
              "    <tr style=\"text-align: right;\">\n",
              "      <th></th>\n",
              "      <th>mpg</th>\n",
              "      <th>cylinders</th>\n",
              "      <th>hp</th>\n",
              "      <th>time-to-60</th>\n",
              "      <th>year</th>\n",
              "    </tr>\n",
              "  </thead>\n",
              "  <tbody>\n",
              "    <tr>\n",
              "      <th>count</th>\n",
              "      <td>2.610000e+02</td>\n",
              "      <td>2.610000e+02</td>\n",
              "      <td>2.610000e+02</td>\n",
              "      <td>2.610000e+02</td>\n",
              "      <td>2.610000e+02</td>\n",
              "    </tr>\n",
              "    <tr>\n",
              "      <th>mean</th>\n",
              "      <td>3.143505e-16</td>\n",
              "      <td>2.124737e-16</td>\n",
              "      <td>9.831429e-17</td>\n",
              "      <td>-2.043916e-16</td>\n",
              "      <td>-2.605329e-15</td>\n",
              "    </tr>\n",
              "    <tr>\n",
              "      <th>std</th>\n",
              "      <td>1.001921e+00</td>\n",
              "      <td>1.001921e+00</td>\n",
              "      <td>1.001921e+00</td>\n",
              "      <td>1.001921e+00</td>\n",
              "      <td>1.001921e+00</td>\n",
              "    </tr>\n",
              "    <tr>\n",
              "      <th>min</th>\n",
              "      <td>-1.683385e+00</td>\n",
              "      <td>-1.497144e+00</td>\n",
              "      <td>-1.493239e+00</td>\n",
              "      <td>-2.598203e+00</td>\n",
              "      <td>-1.602966e+00</td>\n",
              "    </tr>\n",
              "    <tr>\n",
              "      <th>25%</th>\n",
              "      <td>-7.997404e-01</td>\n",
              "      <td>-9.191048e-01</td>\n",
              "      <td>-7.758132e-01</td>\n",
              "      <td>-5.328295e-01</td>\n",
              "      <td>-7.766842e-01</td>\n",
              "    </tr>\n",
              "    <tr>\n",
              "      <th>50%</th>\n",
              "      <td>-1.466117e-01</td>\n",
              "      <td>2.369740e-01</td>\n",
              "      <td>-2.810368e-01</td>\n",
              "      <td>1.556284e-01</td>\n",
              "      <td>4.959804e-02</td>\n",
              "    </tr>\n",
              "    <tr>\n",
              "      <th>75%</th>\n",
              "      <td>7.242265e-01</td>\n",
              "      <td>1.393053e+00</td>\n",
              "      <td>7.827325e-01</td>\n",
              "      <td>4.998573e-01</td>\n",
              "      <td>8.758803e-01</td>\n",
              "    </tr>\n",
              "    <tr>\n",
              "      <th>max</th>\n",
              "      <td>3.003774e+00</td>\n",
              "      <td>1.393053e+00</td>\n",
              "      <td>3.058704e+00</td>\n",
              "      <td>3.253689e+00</td>\n",
              "      <td>1.702163e+00</td>\n",
              "    </tr>\n",
              "  </tbody>\n",
              "</table>\n",
              "</div>"
            ],
            "text/plain": [
              "                mpg     cylinders            hp    time-to-60          year\n",
              "count  2.610000e+02  2.610000e+02  2.610000e+02  2.610000e+02  2.610000e+02\n",
              "mean   3.143505e-16  2.124737e-16  9.831429e-17 -2.043916e-16 -2.605329e-15\n",
              "std    1.001921e+00  1.001921e+00  1.001921e+00  1.001921e+00  1.001921e+00\n",
              "min   -1.683385e+00 -1.497144e+00 -1.493239e+00 -2.598203e+00 -1.602966e+00\n",
              "25%   -7.997404e-01 -9.191048e-01 -7.758132e-01 -5.328295e-01 -7.766842e-01\n",
              "50%   -1.466117e-01  2.369740e-01 -2.810368e-01  1.556284e-01  4.959804e-02\n",
              "75%    7.242265e-01  1.393053e+00  7.827325e-01  4.998573e-01  8.758803e-01\n",
              "max    3.003774e+00  1.393053e+00  3.058704e+00  3.253689e+00  1.702163e+00"
            ]
          },
          "metadata": {
            "tags": []
          },
          "execution_count": 33
        }
      ]
    },
    {
      "cell_type": "code",
      "metadata": {
        "scrolled": true,
        "id": "VVotmWL0rhah",
        "colab": {
          "base_uri": "https://localhost:8080/",
          "height": 297
        },
        "outputId": "aa5f51f5-64b7-4f87-8e29-a1a9b9c20de6"
      },
      "source": [
        "# Displaying histogram plots for the 'hp' column\n",
        "\n",
        "plt.figure()\n",
        "plt.subplot(3,1,1)\n",
        "plt.title(\"Histogram: Original data - 'hp'\")\n",
        "ax1 = df_new[\"hp\"].plot.hist(bins=50, alpha=1)\n",
        "plt.subplot(3,1,2)\n",
        "plt.title(\"Histogram: After min-max scaling - 'hp'\")\n",
        "ax2 = df_scaled[\"hp\"].plot.hist(bins=50, alpha=1)\n",
        "plt.subplot(3,1,3)\n",
        "plt.title(\"Histogram: After standardization - 'hp'\")\n",
        "ax3 = df_std[\"hp\"].plot.hist(bins=50, alpha=1)\n",
        "plt.tight_layout()\n"
      ],
      "execution_count": 34,
      "outputs": [
        {
          "output_type": "display_data",
          "data": {
            "image/png": "[encoded data removed]",
            "text/plain": [
              "<Figure size 432x288 with 3 Axes>"
            ]
          },
          "metadata": {
            "tags": [],
            "needs_background": "light"
          }
        }
      ]
    },
    {
      "cell_type": "code",
      "metadata": {
        "id": "vlv3igmfrhah"
      },
      "source": [
        ""
      ],
      "execution_count": null,
      "outputs": []
    }
  ]
}